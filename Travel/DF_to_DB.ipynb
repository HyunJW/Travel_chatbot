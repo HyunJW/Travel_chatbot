{
 "cells": [
  {
   "cell_type": "code",
   "execution_count": 2,
   "metadata": {},
   "outputs": [
    {
     "data": {
      "text/html": [
       "<div>\n",
       "<style scoped>\n",
       "    .dataframe tbody tr th:only-of-type {\n",
       "        vertical-align: middle;\n",
       "    }\n",
       "\n",
       "    .dataframe tbody tr th {\n",
       "        vertical-align: top;\n",
       "    }\n",
       "\n",
       "    .dataframe thead th {\n",
       "        text-align: right;\n",
       "    }\n",
       "</style>\n",
       "<table border=\"1\" class=\"dataframe\">\n",
       "  <thead>\n",
       "    <tr style=\"text-align: right;\">\n",
       "      <th></th>\n",
       "      <th>시도명</th>\n",
       "      <th>시군구명</th>\n",
       "      <th>읍면동명</th>\n",
       "      <th>어트랙션</th>\n",
       "      <th>어트랙션 목록</th>\n",
       "    </tr>\n",
       "  </thead>\n",
       "  <tbody>\n",
       "    <tr>\n",
       "      <th>0</th>\n",
       "      <td>서울특별시</td>\n",
       "      <td>종로구</td>\n",
       "      <td>청운효자동</td>\n",
       "      <td>여행지</td>\n",
       "      <td>경복궁, 광화문광장, 수성동계곡, 서촌마을, 광화문, 세종대왕동상</td>\n",
       "    </tr>\n",
       "    <tr>\n",
       "      <th>1</th>\n",
       "      <td>서울특별시</td>\n",
       "      <td>종로구</td>\n",
       "      <td>청운효자동</td>\n",
       "      <td>볼거리/놀거리/명소</td>\n",
       "      <td>대한민국역사박물관, 세종문화회관, 광화문광장, 국립고궁박물관, 윤동주문학관, 경복궁</td>\n",
       "    </tr>\n",
       "    <tr>\n",
       "      <th>2</th>\n",
       "      <td>서울특별시</td>\n",
       "      <td>종로구</td>\n",
       "      <td>청운효자동</td>\n",
       "      <td>취미생활</td>\n",
       "      <td>로라홈, 커스텀테라피, 가회민화박물관, 동림매듭공방, 꽃자리자수공방, 틈 틈틈이 하...</td>\n",
       "    </tr>\n",
       "    <tr>\n",
       "      <th>3</th>\n",
       "      <td>서울특별시</td>\n",
       "      <td>종로구</td>\n",
       "      <td>청운효자동</td>\n",
       "      <td>맛집</td>\n",
       "      <td>야끼니꾸소량 경복궁점, 서촌금상고로케, 잘빠진메밀 서촌 본점, 비스트로 친친, 라파...</td>\n",
       "    </tr>\n",
       "    <tr>\n",
       "      <th>4</th>\n",
       "      <td>서울특별시</td>\n",
       "      <td>종로구</td>\n",
       "      <td>청운효자동</td>\n",
       "      <td>카페</td>\n",
       "      <td>서촌금상고로케, 파스텔커피웍스 서촌점, 더숲 초소책방, 스펙터, 서촌스코프, 아키비...</td>\n",
       "    </tr>\n",
       "  </tbody>\n",
       "</table>\n",
       "</div>"
      ],
      "text/plain": [
       "     시도명 시군구명   읍면동명        어트랙션  \\\n",
       "0  서울특별시  종로구  청운효자동         여행지   \n",
       "1  서울특별시  종로구  청운효자동  볼거리/놀거리/명소   \n",
       "2  서울특별시  종로구  청운효자동        취미생활   \n",
       "3  서울특별시  종로구  청운효자동          맛집   \n",
       "4  서울특별시  종로구  청운효자동          카페   \n",
       "\n",
       "                                             어트랙션 목록  \n",
       "0               경복궁, 광화문광장, 수성동계곡, 서촌마을, 광화문, 세종대왕동상  \n",
       "1     대한민국역사박물관, 세종문화회관, 광화문광장, 국립고궁박물관, 윤동주문학관, 경복궁  \n",
       "2  로라홈, 커스텀테라피, 가회민화박물관, 동림매듭공방, 꽃자리자수공방, 틈 틈틈이 하...  \n",
       "3  야끼니꾸소량 경복궁점, 서촌금상고로케, 잘빠진메밀 서촌 본점, 비스트로 친친, 라파...  \n",
       "4  서촌금상고로케, 파스텔커피웍스 서촌점, 더숲 초소책방, 스펙터, 서촌스코프, 아키비...  "
      ]
     },
     "execution_count": 2,
     "metadata": {},
     "output_type": "execute_result"
    }
   ],
   "source": [
    "import pandas as pd\n",
    "import MySQLdb\n",
    "df = pd.read_csv('./여행지추천.csv')\n",
    "df.head()"
   ]
  },
  {
   "cell_type": "code",
   "execution_count": 3,
   "metadata": {},
   "outputs": [],
   "source": [
    "df.rename(columns={'어트랙션 목록':'어트랙션_목록'}, inplace=True)"
   ]
  },
  {
   "cell_type": "code",
   "execution_count": 4,
   "metadata": {},
   "outputs": [],
   "source": [
    "df.fillna('', inplace=True)"
   ]
  },
  {
   "cell_type": "code",
   "execution_count": 5,
   "metadata": {},
   "outputs": [
    {
     "data": {
      "text/plain": [
       "0"
      ]
     },
     "execution_count": 5,
     "metadata": {},
     "output_type": "execute_result"
    }
   ],
   "source": [
    "cnx = MySQLdb.connect(user='web', passwd='1234',\n",
    "                      host='localhost', db='travel')\n",
    "\n",
    "cursor = cnx.cursor()\n",
    "table_name = 'total_attraction'\n",
    "\n",
    "create_table_query = f\"CREATE TABLE IF NOT EXISTS {table_name} ({', '.join(['{} VARCHAR(255)'.format(col) for col in df.columns])})\"\n",
    "cursor.execute(create_table_query)"
   ]
  },
  {
   "cell_type": "code",
   "execution_count": 6,
   "metadata": {},
   "outputs": [],
   "source": [
    "for row in df.itertuples():\n",
    "    insert_query = f\"INSERT INTO {table_name} VALUES {tuple(row[1:])}\"\n",
    "    cursor.execute(insert_query)"
   ]
  },
  {
   "cell_type": "code",
   "execution_count": 7,
   "metadata": {},
   "outputs": [],
   "source": [
    "cnx.commit()"
   ]
  },
  {
   "cell_type": "code",
   "execution_count": 8,
   "metadata": {},
   "outputs": [],
   "source": [
    "cursor.close()\n",
    "cnx.close()"
   ]
  },
  {
   "cell_type": "code",
   "execution_count": null,
   "metadata": {},
   "outputs": [],
   "source": []
  }
 ],
 "metadata": {
  "kernelspec": {
   "display_name": "base",
   "language": "python",
   "name": "python3"
  },
  "language_info": {
   "codemirror_mode": {
    "name": "ipython",
    "version": 3
   },
   "file_extension": ".py",
   "mimetype": "text/x-python",
   "name": "python",
   "nbconvert_exporter": "python",
   "pygments_lexer": "ipython3",
   "version": "3.9.13"
  },
  "orig_nbformat": 4
 },
 "nbformat": 4,
 "nbformat_minor": 2
}
