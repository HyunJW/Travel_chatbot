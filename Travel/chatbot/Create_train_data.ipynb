{
 "cells": [
  {
   "attachments": {},
   "cell_type": "markdown",
   "metadata": {},
   "source": [
    "## 1. 데이터 로드"
   ]
  },
  {
   "cell_type": "code",
   "execution_count": 1,
   "metadata": {},
   "outputs": [],
   "source": [
    "import pandas as pd\n",
    "import numpy as np\n",
    "from konlpy.tag import Komoran"
   ]
  },
  {
   "cell_type": "code",
   "execution_count": 2,
   "metadata": {},
   "outputs": [],
   "source": [
    "purpose = pd.read_csv(\"../data/수정데이터/용도별 목적대화 데이터.csv\")\n",
    "topic = pd.read_csv(\"../data/수정데이터/주제별 텍스트 일상 대화 데이터.csv\")\n",
    "sense = pd.read_csv(\"../data/수정데이터/일반상식 데이터.csv\")\n",
    "travelinfo = pd.read_csv(\"../data/수정데이터/여행정보 데이터.csv\")\n",
    "recommend = pd.read_csv(\"../data/수정데이터/여행지추천 데이터.csv\")\n",
    "\n",
    "purpose.dropna(inplace=True)\n",
    "topic.dropna(inplace=True)\n",
    "sense.dropna(inplace=True)\n",
    "travelinfo.dropna(inplace=True)\n",
    "recommend.dropna(inplace=True)"
   ]
  },
  {
   "cell_type": "code",
   "execution_count": 3,
   "metadata": {},
   "outputs": [
    {
     "name": "stdout",
     "output_type": "stream",
     "text": [
      "purpose shape: (225974, 1)\n",
      "topic shape: (870138, 1)\n",
      "sense shape: (68044, 3)\n",
      "info shape: (11375, 4)\n",
      "recommend shape: (980, 2)\n"
     ]
    }
   ],
   "source": [
    "print(f'purpose shape: {purpose.shape}')\n",
    "print(f'topic shape: {topic.shape}')\n",
    "print(f'sense shape: {sense.shape}')\n",
    "print(f'info shape: {travelinfo.shape}')\n",
    "print(f'recommend shape: {recommend.shape}')"
   ]
  },
  {
   "cell_type": "code",
   "execution_count": 4,
   "metadata": {},
   "outputs": [
    {
     "name": "stdout",
     "output_type": "stream",
     "text": [
      "Index(['text'], dtype='object')\n",
      "Index(['text'], dtype='object')\n",
      "Index(['intent', 'question', 'answer'], dtype='object')\n",
      "Index(['city', 'sigungu', 'title', 'label'], dtype='object')\n",
      "Index(['question', 'answer'], dtype='object')\n"
     ]
    }
   ],
   "source": [
    "print(purpose.columns)\n",
    "print(topic.columns)\n",
    "print(sense.columns)\n",
    "print(travelinfo.columns)\n",
    "print(recommend.columns)"
   ]
  },
  {
   "cell_type": "code",
   "execution_count": 5,
   "metadata": {},
   "outputs": [],
   "source": [
    "total_data = list(purpose['text']) + list(topic['text']) + list(sense['question']) + list(sense['answer']) + \\\n",
    "            list(travelinfo['city']) + list(travelinfo['sigungu']) + list(travelinfo['title']) + list(recommend['question']) + list(recommend['answer'])"
   ]
  },
  {
   "cell_type": "code",
   "execution_count": 6,
   "metadata": {},
   "outputs": [
    {
     "data": {
      "text/plain": [
       "1268285"
      ]
     },
     "execution_count": 6,
     "metadata": {},
     "output_type": "execute_result"
    }
   ],
   "source": [
    "len(total_data)"
   ]
  },
  {
   "cell_type": "code",
   "execution_count": 7,
   "metadata": {},
   "outputs": [],
   "source": [
    "df = pd.DataFrame({'text': total_data})\n",
    "df.to_csv('../data/수정데이터/통합데이터.csv', index=False)"
   ]
  },
  {
   "attachments": {},
   "cell_type": "markdown",
   "metadata": {},
   "source": [
    "## 2. 의도 분류 데이터 생성\n",
    "* 0: 추천\n",
    "* 1: 예약\n",
    "* 2: 정보\n",
    "* 3: 기타\n",
    "* 4: nan"
   ]
  },
  {
   "cell_type": "code",
   "execution_count": 9,
   "metadata": {},
   "outputs": [],
   "source": [
    "df = pd.read_csv('../data/수정데이터/통합데이터.csv')\n",
    "total_data = df['text']"
   ]
  },
  {
   "cell_type": "code",
   "execution_count": 10,
   "metadata": {},
   "outputs": [],
   "source": [
    "city = travelinfo['city'].unique().tolist() + travelinfo['sigungu'].str[:-1].unique().tolist()"
   ]
  },
  {
   "cell_type": "code",
   "execution_count": 11,
   "metadata": {},
   "outputs": [],
   "source": [
    "city += ['전남', '경남', '충북', '전북', '경북', '충남', '세종']"
   ]
  },
  {
   "cell_type": "code",
   "execution_count": 12,
   "metadata": {},
   "outputs": [],
   "source": [
    "reco = []\n",
    "apo = []\n",
    "info = []\n",
    "etc = []\n",
    "nan = []"
   ]
  },
  {
   "cell_type": "code",
   "execution_count": 13,
   "metadata": {},
   "outputs": [],
   "source": [
    "for data in total_data:\n",
    "    reco_keywords = ['곳', '어디', '결혼', '여행', '추천', '맛집', '관광', '여행지', '지역', '국내', '갈만'] + city\n",
    "    apo_keywords = ['이름', '고객님', '시간', '예약', '본인', '입금', '렌트', '숙소', '호텔', '모텔', '오두막', '일정', '체크인', '숙박', '환불', '펜션', '캠핑', '풀빌라']\n",
    "    info_keywords = ['상품', '전화', '번호', '연락', '안내', '문의', '방법', '주소', '접수', '전번', '정보', '축제', '행사', '놀', '놀거리', '박람회', '아쿠아리움', '명소']\n",
    "    try:\n",
    "        if any(keyword in data for keyword in reco_keywords):\n",
    "            reco.append(data)\n",
    "        elif any(keyword in data for keyword in apo_keywords):\n",
    "            apo.append(data)\n",
    "        elif any(keyword in data for keyword in info_keywords):\n",
    "            info.append(data)\n",
    "        else:\n",
    "            etc.append(data)\n",
    "    except:\n",
    "        nan.append(data)"
   ]
  },
  {
   "cell_type": "code",
   "execution_count": 14,
   "metadata": {},
   "outputs": [
    {
     "data": {
      "text/html": [
       "<div>\n",
       "<style scoped>\n",
       "    .dataframe tbody tr th:only-of-type {\n",
       "        vertical-align: middle;\n",
       "    }\n",
       "\n",
       "    .dataframe tbody tr th {\n",
       "        vertical-align: top;\n",
       "    }\n",
       "\n",
       "    .dataframe thead th {\n",
       "        text-align: right;\n",
       "    }\n",
       "</style>\n",
       "<table border=\"1\" class=\"dataframe\">\n",
       "  <thead>\n",
       "    <tr style=\"text-align: right;\">\n",
       "      <th></th>\n",
       "      <th>text</th>\n",
       "      <th>label</th>\n",
       "    </tr>\n",
       "  </thead>\n",
       "  <tbody>\n",
       "    <tr>\n",
       "      <th>0</th>\n",
       "      <td>안내해주신 방법을 시도해 봤는데 안 돼서요</td>\n",
       "      <td>0</td>\n",
       "    </tr>\n",
       "    <tr>\n",
       "      <th>1</th>\n",
       "      <td>휴대폰하고 신분증 챙기셔서 저희 서비스센터 쪽으로 방문 하셔야 되세요 고객님</td>\n",
       "      <td>0</td>\n",
       "    </tr>\n",
       "    <tr>\n",
       "      <th>2</th>\n",
       "      <td>일단 고객님 고객님께서 설정하신 걸 입력하셨는 데도 안 되신다면요</td>\n",
       "      <td>0</td>\n",
       "    </tr>\n",
       "    <tr>\n",
       "      <th>3</th>\n",
       "      <td>저희가 부산 해운대구에는   주소 에 있는 센타가 있고요</td>\n",
       "      <td>0</td>\n",
       "    </tr>\n",
       "    <tr>\n",
       "      <th>4</th>\n",
       "      <td>저희 서비스센타로 오시면 됩니다 고객님</td>\n",
       "      <td>0</td>\n",
       "    </tr>\n",
       "  </tbody>\n",
       "</table>\n",
       "</div>"
      ],
      "text/plain": [
       "                                         text  label\n",
       "0                     안내해주신 방법을 시도해 봤는데 안 돼서요      0\n",
       "1  휴대폰하고 신분증 챙기셔서 저희 서비스센터 쪽으로 방문 하셔야 되세요 고객님      0\n",
       "2        일단 고객님 고객님께서 설정하신 걸 입력하셨는 데도 안 되신다면요      0\n",
       "3             저희가 부산 해운대구에는   주소 에 있는 센타가 있고요      0\n",
       "4                       저희 서비스센타로 오시면 됩니다 고객님      0"
      ]
     },
     "execution_count": 14,
     "metadata": {},
     "output_type": "execute_result"
    }
   ],
   "source": [
    "reco_df = pd.DataFrame({'text': reco})\n",
    "reco_df['label'] = 0\n",
    "reco_df.head()"
   ]
  },
  {
   "cell_type": "code",
   "execution_count": 15,
   "metadata": {},
   "outputs": [
    {
     "data": {
      "text/html": [
       "<div>\n",
       "<style scoped>\n",
       "    .dataframe tbody tr th:only-of-type {\n",
       "        vertical-align: middle;\n",
       "    }\n",
       "\n",
       "    .dataframe tbody tr th {\n",
       "        vertical-align: top;\n",
       "    }\n",
       "\n",
       "    .dataframe thead th {\n",
       "        text-align: right;\n",
       "    }\n",
       "</style>\n",
       "<table border=\"1\" class=\"dataframe\">\n",
       "  <thead>\n",
       "    <tr style=\"text-align: right;\">\n",
       "      <th></th>\n",
       "      <th>text</th>\n",
       "      <th>label</th>\n",
       "    </tr>\n",
       "  </thead>\n",
       "  <tbody>\n",
       "    <tr>\n",
       "      <th>61976</th>\n",
       "      <td>황둔애오토캠핑장</td>\n",
       "      <td>1</td>\n",
       "    </tr>\n",
       "    <tr>\n",
       "      <th>61977</th>\n",
       "      <td>휴가를 부탁해 캠핑장</td>\n",
       "      <td>1</td>\n",
       "    </tr>\n",
       "    <tr>\n",
       "      <th>61978</th>\n",
       "      <td>캠핑 피크닉페어</td>\n",
       "      <td>1</td>\n",
       "    </tr>\n",
       "    <tr>\n",
       "      <th>61979</th>\n",
       "      <td>세계유교문화축전 캠핑축제</td>\n",
       "      <td>1</td>\n",
       "    </tr>\n",
       "    <tr>\n",
       "      <th>61980</th>\n",
       "      <td>오크밸리 캠핑페스티벌</td>\n",
       "      <td>1</td>\n",
       "    </tr>\n",
       "  </tbody>\n",
       "</table>\n",
       "</div>"
      ],
      "text/plain": [
       "                     text  label\n",
       "61976            황둔애오토캠핑장      1\n",
       "61977         휴가를 부탁해 캠핑장      1\n",
       "61978       캠핑 피크닉페어           1\n",
       "61979  세계유교문화축전 캠핑축제           1\n",
       "61980    오크밸리 캠핑페스티벌           1"
      ]
     },
     "execution_count": 15,
     "metadata": {},
     "output_type": "execute_result"
    }
   ],
   "source": [
    "apo_df = pd.DataFrame({'text': apo})\n",
    "apo_df['label'] = 1\n",
    "apo_df.tail()"
   ]
  },
  {
   "cell_type": "code",
   "execution_count": 16,
   "metadata": {},
   "outputs": [
    {
     "data": {
      "text/html": [
       "<div>\n",
       "<style scoped>\n",
       "    .dataframe tbody tr th:only-of-type {\n",
       "        vertical-align: middle;\n",
       "    }\n",
       "\n",
       "    .dataframe tbody tr th {\n",
       "        vertical-align: top;\n",
       "    }\n",
       "\n",
       "    .dataframe thead th {\n",
       "        text-align: right;\n",
       "    }\n",
       "</style>\n",
       "<table border=\"1\" class=\"dataframe\">\n",
       "  <thead>\n",
       "    <tr style=\"text-align: right;\">\n",
       "      <th></th>\n",
       "      <th>text</th>\n",
       "      <th>label</th>\n",
       "    </tr>\n",
       "  </thead>\n",
       "  <tbody>\n",
       "    <tr>\n",
       "      <th>42454</th>\n",
       "      <td>DGIST 세계명문대학 조정축제</td>\n",
       "      <td>2</td>\n",
       "    </tr>\n",
       "    <tr>\n",
       "      <th>42455</th>\n",
       "      <td>DMZ펀치볼시래기축제</td>\n",
       "      <td>2</td>\n",
       "    </tr>\n",
       "    <tr>\n",
       "      <th>42456</th>\n",
       "      <td>Hello  과학마을축제</td>\n",
       "      <td>2</td>\n",
       "    </tr>\n",
       "    <tr>\n",
       "      <th>42457</th>\n",
       "      <td>JDC 지구촌 문화축제</td>\n",
       "      <td>2</td>\n",
       "    </tr>\n",
       "    <tr>\n",
       "      <th>42458</th>\n",
       "      <td>KF 청계천 음악축제</td>\n",
       "      <td>2</td>\n",
       "    </tr>\n",
       "  </tbody>\n",
       "</table>\n",
       "</div>"
      ],
      "text/plain": [
       "                         text  label\n",
       "42454  DGIST 세계명문대학 조정축제           2\n",
       "42455        DMZ펀치볼시래기축제           2\n",
       "42456      Hello  과학마을축제           2\n",
       "42457       JDC 지구촌 문화축제           2\n",
       "42458        KF 청계천 음악축제           2"
      ]
     },
     "execution_count": 16,
     "metadata": {},
     "output_type": "execute_result"
    }
   ],
   "source": [
    "info_df = pd.DataFrame({'text': info})\n",
    "info_df['label'] = 2\n",
    "info_df.tail()"
   ]
  },
  {
   "cell_type": "code",
   "execution_count": 17,
   "metadata": {},
   "outputs": [
    {
     "data": {
      "text/html": [
       "<div>\n",
       "<style scoped>\n",
       "    .dataframe tbody tr th:only-of-type {\n",
       "        vertical-align: middle;\n",
       "    }\n",
       "\n",
       "    .dataframe tbody tr th {\n",
       "        vertical-align: top;\n",
       "    }\n",
       "\n",
       "    .dataframe thead th {\n",
       "        text-align: right;\n",
       "    }\n",
       "</style>\n",
       "<table border=\"1\" class=\"dataframe\">\n",
       "  <thead>\n",
       "    <tr style=\"text-align: right;\">\n",
       "      <th></th>\n",
       "      <th>text</th>\n",
       "      <th>label</th>\n",
       "    </tr>\n",
       "  </thead>\n",
       "  <tbody>\n",
       "    <tr>\n",
       "      <th>794304</th>\n",
       "      <td>KAMF  카이스트 아트 뮤직페스티벌</td>\n",
       "      <td>3</td>\n",
       "    </tr>\n",
       "    <tr>\n",
       "      <th>794305</th>\n",
       "      <td>LG드림페스티벌</td>\n",
       "      <td>3</td>\n",
       "    </tr>\n",
       "    <tr>\n",
       "      <th>794306</th>\n",
       "      <td>Lifeplus 벚꽃피크닉페스티벌</td>\n",
       "      <td>3</td>\n",
       "    </tr>\n",
       "    <tr>\n",
       "      <th>794307</th>\n",
       "      <td>SW교육 페스티벌</td>\n",
       "      <td>3</td>\n",
       "    </tr>\n",
       "    <tr>\n",
       "      <th>794308</th>\n",
       "      <td>What We Wear 왓위웨어</td>\n",
       "      <td>3</td>\n",
       "    </tr>\n",
       "  </tbody>\n",
       "</table>\n",
       "</div>"
      ],
      "text/plain": [
       "                              text  label\n",
       "794304  KAMF  카이스트 아트 뮤직페스티벌            3\n",
       "794305               LG드림페스티벌           3\n",
       "794306     Lifeplus 벚꽃피크닉페스티벌           3\n",
       "794307              SW교육 페스티벌           3\n",
       "794308      What We Wear 왓위웨어           3"
      ]
     },
     "execution_count": 17,
     "metadata": {},
     "output_type": "execute_result"
    }
   ],
   "source": [
    "etc_df = pd.DataFrame({'text': etc})\n",
    "etc_df['label'] = 3\n",
    "etc_df.tail()"
   ]
  },
  {
   "cell_type": "code",
   "execution_count": 18,
   "metadata": {},
   "outputs": [
    {
     "data": {
      "text/plain": [
       "[]"
      ]
     },
     "execution_count": 18,
     "metadata": {},
     "output_type": "execute_result"
    }
   ],
   "source": [
    "nan"
   ]
  },
  {
   "cell_type": "code",
   "execution_count": 19,
   "metadata": {},
   "outputs": [
    {
     "data": {
      "text/plain": [
       "(1268285, 2)"
      ]
     },
     "execution_count": 19,
     "metadata": {},
     "output_type": "execute_result"
    }
   ],
   "source": [
    "total_train_data = pd.concat([reco_df, apo_df, info_df, etc_df], axis=0)\n",
    "total_train_data.reset_index(drop=True, inplace=True)\n",
    "total_train_data.shape"
   ]
  },
  {
   "cell_type": "code",
   "execution_count": 20,
   "metadata": {},
   "outputs": [
    {
     "data": {
      "text/html": [
       "<div>\n",
       "<style scoped>\n",
       "    .dataframe tbody tr th:only-of-type {\n",
       "        vertical-align: middle;\n",
       "    }\n",
       "\n",
       "    .dataframe tbody tr th {\n",
       "        vertical-align: top;\n",
       "    }\n",
       "\n",
       "    .dataframe thead th {\n",
       "        text-align: right;\n",
       "    }\n",
       "</style>\n",
       "<table border=\"1\" class=\"dataframe\">\n",
       "  <thead>\n",
       "    <tr style=\"text-align: right;\">\n",
       "      <th></th>\n",
       "      <th>text</th>\n",
       "      <th>label</th>\n",
       "    </tr>\n",
       "  </thead>\n",
       "  <tbody>\n",
       "    <tr>\n",
       "      <th>0</th>\n",
       "      <td>안내해주신 방법을 시도해 봤는데 안 돼서요</td>\n",
       "      <td>0</td>\n",
       "    </tr>\n",
       "    <tr>\n",
       "      <th>1</th>\n",
       "      <td>휴대폰하고 신분증 챙기셔서 저희 서비스센터 쪽으로 방문 하셔야 되세요 고객님</td>\n",
       "      <td>0</td>\n",
       "    </tr>\n",
       "    <tr>\n",
       "      <th>2</th>\n",
       "      <td>일단 고객님 고객님께서 설정하신 걸 입력하셨는 데도 안 되신다면요</td>\n",
       "      <td>0</td>\n",
       "    </tr>\n",
       "    <tr>\n",
       "      <th>3</th>\n",
       "      <td>저희가 부산 해운대구에는   주소 에 있는 센타가 있고요</td>\n",
       "      <td>0</td>\n",
       "    </tr>\n",
       "    <tr>\n",
       "      <th>4</th>\n",
       "      <td>저희 서비스센타로 오시면 됩니다 고객님</td>\n",
       "      <td>0</td>\n",
       "    </tr>\n",
       "    <tr>\n",
       "      <th>...</th>\n",
       "      <td>...</td>\n",
       "      <td>...</td>\n",
       "    </tr>\n",
       "    <tr>\n",
       "      <th>369531</th>\n",
       "      <td>안녕하세요  부산에 가볼만한곳도많고 맛집도 너무많아서 고민이 많이되실꺼에요 ㅜㅜ 부...</td>\n",
       "      <td>0</td>\n",
       "    </tr>\n",
       "    <tr>\n",
       "      <th>369532</th>\n",
       "      <td>저는 강원도에 안번데기 다녀왔는데 너무 좋았어서 추천드립니다  답변해드리면서 강원도...</td>\n",
       "      <td>0</td>\n",
       "    </tr>\n",
       "    <tr>\n",
       "      <th>369533</th>\n",
       "      <td>포항에 일본가옥거리 추천해드릴게요  작은 골목이라서 넓지는 않지만 옛날 생각나는 불...</td>\n",
       "      <td>0</td>\n",
       "    </tr>\n",
       "    <tr>\n",
       "      <th>369534</th>\n",
       "      <td>국제슬로시티로 지정된 전주 한옥마을 추천합니다  용산역에서 전라선기차와 시외 고속버...</td>\n",
       "      <td>0</td>\n",
       "    </tr>\n",
       "    <tr>\n",
       "      <th>369535</th>\n",
       "      <td>강릉 까지가도 되겠네요 강릉 강문해변 안목해변 커피거리 경포호 해변 오죽헌 선교장 ...</td>\n",
       "      <td>0</td>\n",
       "    </tr>\n",
       "  </tbody>\n",
       "</table>\n",
       "<p>369536 rows × 2 columns</p>\n",
       "</div>"
      ],
      "text/plain": [
       "                                                     text  label\n",
       "0                                 안내해주신 방법을 시도해 봤는데 안 돼서요      0\n",
       "1              휴대폰하고 신분증 챙기셔서 저희 서비스센터 쪽으로 방문 하셔야 되세요 고객님      0\n",
       "2                    일단 고객님 고객님께서 설정하신 걸 입력하셨는 데도 안 되신다면요      0\n",
       "3                         저희가 부산 해운대구에는   주소 에 있는 센타가 있고요      0\n",
       "4                                   저희 서비스센타로 오시면 됩니다 고객님      0\n",
       "...                                                   ...    ...\n",
       "369531  안녕하세요  부산에 가볼만한곳도많고 맛집도 너무많아서 고민이 많이되실꺼에요 ㅜㅜ 부...      0\n",
       "369532  저는 강원도에 안번데기 다녀왔는데 너무 좋았어서 추천드립니다  답변해드리면서 강원도...      0\n",
       "369533  포항에 일본가옥거리 추천해드릴게요  작은 골목이라서 넓지는 않지만 옛날 생각나는 불...      0\n",
       "369534  국제슬로시티로 지정된 전주 한옥마을 추천합니다  용산역에서 전라선기차와 시외 고속버...      0\n",
       "369535  강릉 까지가도 되겠네요 강릉 강문해변 안목해변 커피거리 경포호 해변 오죽헌 선교장 ...      0\n",
       "\n",
       "[369536 rows x 2 columns]"
      ]
     },
     "execution_count": 20,
     "metadata": {},
     "output_type": "execute_result"
    }
   ],
   "source": [
    "total_train_data[total_train_data['label'] == 0]"
   ]
  },
  {
   "cell_type": "code",
   "execution_count": 21,
   "metadata": {},
   "outputs": [
    {
     "data": {
      "text/html": [
       "<div>\n",
       "<style scoped>\n",
       "    .dataframe tbody tr th:only-of-type {\n",
       "        vertical-align: middle;\n",
       "    }\n",
       "\n",
       "    .dataframe tbody tr th {\n",
       "        vertical-align: top;\n",
       "    }\n",
       "\n",
       "    .dataframe thead th {\n",
       "        text-align: right;\n",
       "    }\n",
       "</style>\n",
       "<table border=\"1\" class=\"dataframe\">\n",
       "  <thead>\n",
       "    <tr style=\"text-align: right;\">\n",
       "      <th></th>\n",
       "      <th>text</th>\n",
       "      <th>label</th>\n",
       "    </tr>\n",
       "  </thead>\n",
       "  <tbody>\n",
       "    <tr>\n",
       "      <th>369536</th>\n",
       "      <td>반갑습니다   소속  상담사   이름 입니다</td>\n",
       "      <td>1</td>\n",
       "    </tr>\n",
       "    <tr>\n",
       "      <th>369537</th>\n",
       "      <td>휴대폰 명의자 본인이요</td>\n",
       "      <td>1</td>\n",
       "    </tr>\n",
       "    <tr>\n",
       "      <th>369538</th>\n",
       "      <td>그건 고객님 설정하신 번호 눌러도 진입이 안 되세요 고객님</td>\n",
       "      <td>1</td>\n",
       "    </tr>\n",
       "    <tr>\n",
       "      <th>369539</th>\n",
       "      <td>조금 번거로우시겠지만 센터 쪽으로 내방해 주셔야 할 것 같으세요 고객님</td>\n",
       "      <td>1</td>\n",
       "    </tr>\n",
       "    <tr>\n",
       "      <th>369540</th>\n",
       "      <td>예 고객님 회현지구 쪽으로 확인해 드리겠습니다</td>\n",
       "      <td>1</td>\n",
       "    </tr>\n",
       "    <tr>\n",
       "      <th>...</th>\n",
       "      <td>...</td>\n",
       "      <td>...</td>\n",
       "    </tr>\n",
       "    <tr>\n",
       "      <th>431512</th>\n",
       "      <td>황둔애오토캠핑장</td>\n",
       "      <td>1</td>\n",
       "    </tr>\n",
       "    <tr>\n",
       "      <th>431513</th>\n",
       "      <td>휴가를 부탁해 캠핑장</td>\n",
       "      <td>1</td>\n",
       "    </tr>\n",
       "    <tr>\n",
       "      <th>431514</th>\n",
       "      <td>캠핑 피크닉페어</td>\n",
       "      <td>1</td>\n",
       "    </tr>\n",
       "    <tr>\n",
       "      <th>431515</th>\n",
       "      <td>세계유교문화축전 캠핑축제</td>\n",
       "      <td>1</td>\n",
       "    </tr>\n",
       "    <tr>\n",
       "      <th>431516</th>\n",
       "      <td>오크밸리 캠핑페스티벌</td>\n",
       "      <td>1</td>\n",
       "    </tr>\n",
       "  </tbody>\n",
       "</table>\n",
       "<p>61981 rows × 2 columns</p>\n",
       "</div>"
      ],
      "text/plain": [
       "                                           text  label\n",
       "369536                 반갑습니다   소속  상담사   이름 입니다      1\n",
       "369537                             휴대폰 명의자 본인이요      1\n",
       "369538         그건 고객님 설정하신 번호 눌러도 진입이 안 되세요 고객님      1\n",
       "369539  조금 번거로우시겠지만 센터 쪽으로 내방해 주셔야 할 것 같으세요 고객님      1\n",
       "369540                예 고객님 회현지구 쪽으로 확인해 드리겠습니다      1\n",
       "...                                         ...    ...\n",
       "431512                                 황둔애오토캠핑장      1\n",
       "431513                              휴가를 부탁해 캠핑장      1\n",
       "431514                            캠핑 피크닉페어           1\n",
       "431515                       세계유교문화축전 캠핑축제           1\n",
       "431516                         오크밸리 캠핑페스티벌           1\n",
       "\n",
       "[61981 rows x 2 columns]"
      ]
     },
     "execution_count": 21,
     "metadata": {},
     "output_type": "execute_result"
    }
   ],
   "source": [
    "total_train_data[total_train_data['label'] == 1]"
   ]
  },
  {
   "cell_type": "code",
   "execution_count": 22,
   "metadata": {},
   "outputs": [
    {
     "data": {
      "text/html": [
       "<div>\n",
       "<style scoped>\n",
       "    .dataframe tbody tr th:only-of-type {\n",
       "        vertical-align: middle;\n",
       "    }\n",
       "\n",
       "    .dataframe tbody tr th {\n",
       "        vertical-align: top;\n",
       "    }\n",
       "\n",
       "    .dataframe thead th {\n",
       "        text-align: right;\n",
       "    }\n",
       "</style>\n",
       "<table border=\"1\" class=\"dataframe\">\n",
       "  <thead>\n",
       "    <tr style=\"text-align: right;\">\n",
       "      <th></th>\n",
       "      <th>text</th>\n",
       "      <th>label</th>\n",
       "    </tr>\n",
       "  </thead>\n",
       "  <tbody>\n",
       "    <tr>\n",
       "      <th>431517</th>\n",
       "      <td>그러시다면 두 번째 방법은요</td>\n",
       "      <td>2</td>\n",
       "    </tr>\n",
       "    <tr>\n",
       "      <th>431518</th>\n",
       "      <td>아니시면   주소 에 있는 작은 분점도 확인되고 있습니다</td>\n",
       "      <td>2</td>\n",
       "    </tr>\n",
       "    <tr>\n",
       "      <th>431519</th>\n",
       "      <td>주소 이 나을 거 같아요</td>\n",
       "      <td>2</td>\n",
       "    </tr>\n",
       "    <tr>\n",
       "      <th>431520</th>\n",
       "      <td>그러세요 그러시다면   주소 은 지하철 장산역 십 사 번 출구에 있구요</td>\n",
       "      <td>2</td>\n",
       "    </tr>\n",
       "    <tr>\n",
       "      <th>431521</th>\n",
       "      <td>아까 주소 얘기 하다가 끊어졌죠  주소 에 있는   주소 에요</td>\n",
       "      <td>2</td>\n",
       "    </tr>\n",
       "    <tr>\n",
       "      <th>...</th>\n",
       "      <td>...</td>\n",
       "      <td>...</td>\n",
       "    </tr>\n",
       "    <tr>\n",
       "      <th>473971</th>\n",
       "      <td>DGIST 세계명문대학 조정축제</td>\n",
       "      <td>2</td>\n",
       "    </tr>\n",
       "    <tr>\n",
       "      <th>473972</th>\n",
       "      <td>DMZ펀치볼시래기축제</td>\n",
       "      <td>2</td>\n",
       "    </tr>\n",
       "    <tr>\n",
       "      <th>473973</th>\n",
       "      <td>Hello  과학마을축제</td>\n",
       "      <td>2</td>\n",
       "    </tr>\n",
       "    <tr>\n",
       "      <th>473974</th>\n",
       "      <td>JDC 지구촌 문화축제</td>\n",
       "      <td>2</td>\n",
       "    </tr>\n",
       "    <tr>\n",
       "      <th>473975</th>\n",
       "      <td>KF 청계천 음악축제</td>\n",
       "      <td>2</td>\n",
       "    </tr>\n",
       "  </tbody>\n",
       "</table>\n",
       "<p>42459 rows × 2 columns</p>\n",
       "</div>"
      ],
      "text/plain": [
       "                                           text  label\n",
       "431517                          그러시다면 두 번째 방법은요      2\n",
       "431518          아니시면   주소 에 있는 작은 분점도 확인되고 있습니다      2\n",
       "431519                            주소 이 나을 거 같아요      2\n",
       "431520  그러세요 그러시다면   주소 은 지하철 장산역 십 사 번 출구에 있구요      2\n",
       "431521       아까 주소 얘기 하다가 끊어졌죠  주소 에 있는   주소 에요      2\n",
       "...                                         ...    ...\n",
       "473971                   DGIST 세계명문대학 조정축제           2\n",
       "473972                         DMZ펀치볼시래기축제           2\n",
       "473973                       Hello  과학마을축제           2\n",
       "473974                        JDC 지구촌 문화축제           2\n",
       "473975                         KF 청계천 음악축제           2\n",
       "\n",
       "[42459 rows x 2 columns]"
      ]
     },
     "execution_count": 22,
     "metadata": {},
     "output_type": "execute_result"
    }
   ],
   "source": [
    "total_train_data[total_train_data['label'] == 2]"
   ]
  },
  {
   "cell_type": "code",
   "execution_count": 23,
   "metadata": {},
   "outputs": [
    {
     "data": {
      "text/html": [
       "<div>\n",
       "<style scoped>\n",
       "    .dataframe tbody tr th:only-of-type {\n",
       "        vertical-align: middle;\n",
       "    }\n",
       "\n",
       "    .dataframe tbody tr th {\n",
       "        vertical-align: top;\n",
       "    }\n",
       "\n",
       "    .dataframe thead th {\n",
       "        text-align: right;\n",
       "    }\n",
       "</style>\n",
       "<table border=\"1\" class=\"dataframe\">\n",
       "  <thead>\n",
       "    <tr style=\"text-align: right;\">\n",
       "      <th></th>\n",
       "      <th>text</th>\n",
       "      <th>label</th>\n",
       "    </tr>\n",
       "  </thead>\n",
       "  <tbody>\n",
       "    <tr>\n",
       "      <th>473976</th>\n",
       "      <td>이게 왜 이렇게 된거죠</td>\n",
       "      <td>3</td>\n",
       "    </tr>\n",
       "    <tr>\n",
       "      <th>473977</th>\n",
       "      <td>그거 내가 설정 안 해놨는데요</td>\n",
       "      <td>3</td>\n",
       "    </tr>\n",
       "    <tr>\n",
       "      <th>473978</th>\n",
       "      <td>그거 해봤지요 안 되네요</td>\n",
       "      <td>3</td>\n",
       "    </tr>\n",
       "    <tr>\n",
       "      <th>473979</th>\n",
       "      <td>어쩔 수 없지요 센터 가야 되겠네요</td>\n",
       "      <td>3</td>\n",
       "    </tr>\n",
       "    <tr>\n",
       "      <th>473980</th>\n",
       "      <td>그러면 회현 쪽에 좀 알려주셔요</td>\n",
       "      <td>3</td>\n",
       "    </tr>\n",
       "    <tr>\n",
       "      <th>...</th>\n",
       "      <td>...</td>\n",
       "      <td>...</td>\n",
       "    </tr>\n",
       "    <tr>\n",
       "      <th>1268280</th>\n",
       "      <td>KAMF  카이스트 아트 뮤직페스티벌</td>\n",
       "      <td>3</td>\n",
       "    </tr>\n",
       "    <tr>\n",
       "      <th>1268281</th>\n",
       "      <td>LG드림페스티벌</td>\n",
       "      <td>3</td>\n",
       "    </tr>\n",
       "    <tr>\n",
       "      <th>1268282</th>\n",
       "      <td>Lifeplus 벚꽃피크닉페스티벌</td>\n",
       "      <td>3</td>\n",
       "    </tr>\n",
       "    <tr>\n",
       "      <th>1268283</th>\n",
       "      <td>SW교육 페스티벌</td>\n",
       "      <td>3</td>\n",
       "    </tr>\n",
       "    <tr>\n",
       "      <th>1268284</th>\n",
       "      <td>What We Wear 왓위웨어</td>\n",
       "      <td>3</td>\n",
       "    </tr>\n",
       "  </tbody>\n",
       "</table>\n",
       "<p>794309 rows × 2 columns</p>\n",
       "</div>"
      ],
      "text/plain": [
       "                               text  label\n",
       "473976                 이게 왜 이렇게 된거죠      3\n",
       "473977             그거 내가 설정 안 해놨는데요      3\n",
       "473978                그거 해봤지요 안 되네요      3\n",
       "473979          어쩔 수 없지요 센터 가야 되겠네요      3\n",
       "473980            그러면 회현 쪽에 좀 알려주셔요      3\n",
       "...                             ...    ...\n",
       "1268280  KAMF  카이스트 아트 뮤직페스티벌            3\n",
       "1268281               LG드림페스티벌           3\n",
       "1268282     Lifeplus 벚꽃피크닉페스티벌           3\n",
       "1268283              SW교육 페스티벌           3\n",
       "1268284      What We Wear 왓위웨어           3\n",
       "\n",
       "[794309 rows x 2 columns]"
      ]
     },
     "execution_count": 23,
     "metadata": {},
     "output_type": "execute_result"
    }
   ],
   "source": [
    "total_train_data[total_train_data['label'] == 3]"
   ]
  },
  {
   "cell_type": "code",
   "execution_count": 24,
   "metadata": {},
   "outputs": [],
   "source": [
    "total_train_data.to_csv('../data/수정데이터/total_train_data.csv', index=False)"
   ]
  },
  {
   "attachments": {},
   "cell_type": "markdown",
   "metadata": {},
   "source": [
    "## 3. 적절한 패딩 길이 탐색"
   ]
  },
  {
   "cell_type": "code",
   "execution_count": 25,
   "metadata": {},
   "outputs": [],
   "source": [
    "total_train_data = pd.read_csv('../data/수정데이터/total_train_data.csv')"
   ]
  },
  {
   "cell_type": "code",
   "execution_count": 26,
   "metadata": {},
   "outputs": [],
   "source": [
    "tokenizer = Komoran()"
   ]
  },
  {
   "cell_type": "code",
   "execution_count": 27,
   "metadata": {},
   "outputs": [],
   "source": [
    "data_tokenized = [[token + '/' + POS for token, POS in tokenizer.pos(text)] for text in total_train_data['text']]"
   ]
  },
  {
   "cell_type": "code",
   "execution_count": 33,
   "metadata": {},
   "outputs": [],
   "source": [
    "exclusion_tags = [\n",
    "    \"JKS\", \"JKC\", \"JKG\", \"JKO\", \"JKB\", \"JKV\", \"JKQ\",\n",
    "    \"JX\", \"JC\",\n",
    "    \"SF\", \"SP\", \"SS\", \"SE\", \"SO\",\n",
    "    \"EP\", \"EF\", \"EC\", \"ETN\", \"ETM\",\n",
    "    \"XSN\", \"XSV\", \"XSA\",\n",
    "]\n",
    "def Exclusion_tags(x):\n",
    "    return x in exclusion_tags\n",
    "\n",
    "data_list = []\n",
    "for i in range(len(data_tokenized)):\n",
    "    temp = []\n",
    "    for j in range(len(data_tokenized[i])):\n",
    "        if Exclusion_tags(data_tokenized[i][j].split('/')[1]) is False:\n",
    "            temp.append(data_tokenized[i][j].split('/')[0])\n",
    "    data_list.append(temp)"
   ]
  },
  {
   "cell_type": "code",
   "execution_count": 34,
   "metadata": {},
   "outputs": [
    {
     "data": {
      "text/plain": [
       "1257408"
      ]
     },
     "execution_count": 34,
     "metadata": {},
     "output_type": "execute_result"
    }
   ],
   "source": [
    "len(data_list)"
   ]
  },
  {
   "cell_type": "code",
   "execution_count": 35,
   "metadata": {},
   "outputs": [
    {
     "name": "stdout",
     "output_type": "stream",
     "text": [
      "토큰 길이 평균: 6.30160536595918\n",
      "토큰 길이 최대: 155\n",
      "토큰 길이 표준편차: 3.588830342925471\n"
     ]
    }
   ],
   "source": [
    "num_tokens = [len(sent) for sent in data_list]\n",
    "num_tokens = np.array(num_tokens)\n",
    "print('토큰 길이 평균:', num_tokens.mean())\n",
    "print('토큰 길이 최대:', num_tokens.max())\n",
    "print('토큰 길이 표준편차:', num_tokens.std())"
   ]
  },
  {
   "cell_type": "code",
   "execution_count": 36,
   "metadata": {},
   "outputs": [
    {
     "name": "stdout",
     "output_type": "stream",
     "text": [
      "전체 샘플 중 길이가 25 이하인 샘플의 비율: 0.9987625337201609\n"
     ]
    }
   ],
   "source": [
    "MAX_SEQ_LEN = 25\n",
    "def below_len_rate(max_len, data_list):\n",
    "    cnt = 0\n",
    "    for s in data_list:\n",
    "        if (len(s) <= max_len):\n",
    "            cnt = cnt + 1\n",
    "\n",
    "    print(f'전체 샘플 중 길이가 {max_len} 이하인 샘플의 비율: {(cnt / len(data_list))}')\n",
    "below_len_rate(MAX_SEQ_LEN, data_list)"
   ]
  },
  {
   "cell_type": "code",
   "execution_count": 37,
   "metadata": {},
   "outputs": [
    {
     "data": {
      "text/plain": [
       "['남동생/NNP',\n",
       " '이랑/NNP',\n",
       " '너무/MAG',\n",
       " '데/NNB',\n",
       " '이/VCP',\n",
       " '면/EC',\n",
       " '데/NNB',\n",
       " '이/VCP',\n",
       " '면/EC',\n",
       " '하하/NNP']"
      ]
     },
     "execution_count": 37,
     "metadata": {},
     "output_type": "execute_result"
    }
   ],
   "source": [
    "num_tokens.argmax()\n",
    "data_tokenized[73475]"
   ]
  },
  {
   "cell_type": "code",
   "execution_count": null,
   "metadata": {},
   "outputs": [],
   "source": []
  }
 ],
 "metadata": {
  "kernelspec": {
   "display_name": "base",
   "language": "python",
   "name": "python3"
  },
  "language_info": {
   "codemirror_mode": {
    "name": "ipython",
    "version": 3
   },
   "file_extension": ".py",
   "mimetype": "text/x-python",
   "name": "python",
   "nbconvert_exporter": "python",
   "pygments_lexer": "ipython3",
   "version": "3.9.13"
  },
  "orig_nbformat": 4
 },
 "nbformat": 4,
 "nbformat_minor": 2
}
