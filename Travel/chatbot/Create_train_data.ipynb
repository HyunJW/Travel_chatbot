{
 "cells": [
  {
   "attachments": {},
   "cell_type": "markdown",
   "metadata": {},
   "source": [
    "## 1. 데이터 로드"
   ]
  },
  {
   "cell_type": "code",
   "execution_count": 173,
   "metadata": {},
   "outputs": [],
   "source": [
    "import pandas as pd\n",
    "import numpy as np\n",
    "from konlpy.tag import Komoran\n",
    "import matplotlib.pyplot as plt"
   ]
  },
  {
   "cell_type": "code",
   "execution_count": 2,
   "metadata": {},
   "outputs": [],
   "source": [
    "purpose = pd.read_csv(\"../data/수정데이터/용도별 목적대화 데이터.csv\")\n",
    "topic = pd.read_csv(\"../data/수정데이터/주제별 텍스트 일상 대화 데이터.csv\")\n",
    "sense = pd.read_csv(\"../data/수정데이터/일반상식 데이터.csv\")\n",
    "info = pd.read_csv(\"../data/수정데이터/여행정보 데이터.csv\")\n",
    "recommend = pd.read_csv(\"../data/수정데이터/여행지추천 데이터.csv\")\n",
    "\n",
    "purpose.dropna(inplace=True)\n",
    "topic.dropna(inplace=True)\n",
    "sense.dropna(inplace=True)\n",
    "info.dropna(inplace=True)\n",
    "recommend.dropna(inplace=True)"
   ]
  },
  {
   "cell_type": "code",
   "execution_count": 8,
   "metadata": {},
   "outputs": [
    {
     "name": "stdout",
     "output_type": "stream",
     "text": [
      "purpose shape: (225974, 1)\n",
      "topic shape: (870138, 1)\n",
      "sense shape: (68538, 3)\n",
      "info shape: (11400, 3)\n",
      "recommend shape: (980, 2)\n"
     ]
    }
   ],
   "source": [
    "print(f'purpose shape: {purpose.shape}')\n",
    "print(f'topic shape: {topic.shape}')\n",
    "print(f'sense shape: {sense.shape}')\n",
    "print(f'info shape: {info.shape}')\n",
    "print(f'recommend shape: {recommend.shape}')"
   ]
  },
  {
   "cell_type": "code",
   "execution_count": 9,
   "metadata": {},
   "outputs": [
    {
     "name": "stdout",
     "output_type": "stream",
     "text": [
      "Index(['text'], dtype='object')\n",
      "Index(['text'], dtype='object')\n",
      "Index(['intent', 'question', 'answer'], dtype='object')\n",
      "Index(['city', 'title', 'label'], dtype='object')\n",
      "Index(['question', 'answer'], dtype='object')\n"
     ]
    }
   ],
   "source": [
    "print(purpose.columns)\n",
    "print(topic.columns)\n",
    "print(sense.columns)\n",
    "print(info.columns)\n",
    "print(recommend.columns)"
   ]
  },
  {
   "cell_type": "code",
   "execution_count": 77,
   "metadata": {},
   "outputs": [],
   "source": [
    "total_data = list(purpose['text']) + list(topic['text']) + list(sense['question']) + list(sense['answer']) + \\\n",
    "            list(info['city']) + list(info['title']) + list(recommend['question']) + list(recommend['answer'])"
   ]
  },
  {
   "cell_type": "code",
   "execution_count": 78,
   "metadata": {},
   "outputs": [
    {
     "data": {
      "text/plain": [
       "1257948"
      ]
     },
     "execution_count": 78,
     "metadata": {},
     "output_type": "execute_result"
    }
   ],
   "source": [
    "len(total_data)"
   ]
  },
  {
   "cell_type": "code",
   "execution_count": 79,
   "metadata": {},
   "outputs": [],
   "source": [
    "df = pd.DataFrame({'text': total_data})\n",
    "df.to_csv('../data/수정데이터/통합데이터.csv', index=False)"
   ]
  },
  {
   "attachments": {},
   "cell_type": "markdown",
   "metadata": {},
   "source": [
    "## 2. 의도 분류 데이터 생성\n",
    "* 0: 장소\n",
    "* 1: 시간\n",
    "* 2: 기타"
   ]
  },
  {
   "cell_type": "code",
   "execution_count": 138,
   "metadata": {},
   "outputs": [],
   "source": [
    "place = []\n",
    "time = []\n",
    "etc = []\n",
    "nan = []"
   ]
  },
  {
   "cell_type": "code",
   "execution_count": 139,
   "metadata": {},
   "outputs": [],
   "source": [
    "for data in total_data:\n",
    "    place_keywords = ['국내', '여행', '장소', '주소', '위치', '추천', '어디', '근처', '맛집' ] \n",
    "    time_keywords = ['봄', '여름', '가을', '겨울', '시간', '기간', '언제', '계획']\n",
    "    try:\n",
    "        if any(keyword in data for keyword in place_keywords):\n",
    "            place.append(data)\n",
    "        elif any(keyword in data for keyword in time_keywords):\n",
    "            time.append(data)\n",
    "        else:\n",
    "            etc.append(data)\n",
    "    except:\n",
    "        nan.append(data)"
   ]
  },
  {
   "cell_type": "code",
   "execution_count": 140,
   "metadata": {},
   "outputs": [
    {
     "data": {
      "text/html": [
       "<div>\n",
       "<style scoped>\n",
       "    .dataframe tbody tr th:only-of-type {\n",
       "        vertical-align: middle;\n",
       "    }\n",
       "\n",
       "    .dataframe tbody tr th {\n",
       "        vertical-align: top;\n",
       "    }\n",
       "\n",
       "    .dataframe thead th {\n",
       "        text-align: right;\n",
       "    }\n",
       "</style>\n",
       "<table border=\"1\" class=\"dataframe\">\n",
       "  <thead>\n",
       "    <tr style=\"text-align: right;\">\n",
       "      <th></th>\n",
       "      <th>text</th>\n",
       "      <th>label</th>\n",
       "    </tr>\n",
       "  </thead>\n",
       "  <tbody>\n",
       "    <tr>\n",
       "      <th>0</th>\n",
       "      <td>저희가 부산 해운대구에는   주소 에 있는 센타가 있고요</td>\n",
       "      <td>0</td>\n",
       "    </tr>\n",
       "    <tr>\n",
       "      <th>1</th>\n",
       "      <td>아니시면   주소 에 있는 작은 분점도 확인되고 있습니다</td>\n",
       "      <td>0</td>\n",
       "    </tr>\n",
       "    <tr>\n",
       "      <th>2</th>\n",
       "      <td>주소 이 나을 거 같아요</td>\n",
       "      <td>0</td>\n",
       "    </tr>\n",
       "    <tr>\n",
       "      <th>3</th>\n",
       "      <td>그러세요 그러시다면   주소 은 지하철 장산역 십 사 번 출구에 있구요</td>\n",
       "      <td>0</td>\n",
       "    </tr>\n",
       "    <tr>\n",
       "      <th>4</th>\n",
       "      <td>아까 주소 얘기 하다가 끊어졌죠  주소 에 있는   주소 에요</td>\n",
       "      <td>0</td>\n",
       "    </tr>\n",
       "  </tbody>\n",
       "</table>\n",
       "</div>"
      ],
      "text/plain": [
       "                                      text  label\n",
       "0          저희가 부산 해운대구에는   주소 에 있는 센타가 있고요      0\n",
       "1          아니시면   주소 에 있는 작은 분점도 확인되고 있습니다      0\n",
       "2                            주소 이 나을 거 같아요      0\n",
       "3  그러세요 그러시다면   주소 은 지하철 장산역 십 사 번 출구에 있구요      0\n",
       "4       아까 주소 얘기 하다가 끊어졌죠  주소 에 있는   주소 에요      0"
      ]
     },
     "execution_count": 140,
     "metadata": {},
     "output_type": "execute_result"
    }
   ],
   "source": [
    "place_df = pd.DataFrame({'text': place})\n",
    "place_df['label'] = 0\n",
    "place_df.head()"
   ]
  },
  {
   "cell_type": "code",
   "execution_count": 141,
   "metadata": {},
   "outputs": [
    {
     "data": {
      "text/html": [
       "<div>\n",
       "<style scoped>\n",
       "    .dataframe tbody tr th:only-of-type {\n",
       "        vertical-align: middle;\n",
       "    }\n",
       "\n",
       "    .dataframe tbody tr th {\n",
       "        vertical-align: top;\n",
       "    }\n",
       "\n",
       "    .dataframe thead th {\n",
       "        text-align: right;\n",
       "    }\n",
       "</style>\n",
       "<table border=\"1\" class=\"dataframe\">\n",
       "  <thead>\n",
       "    <tr style=\"text-align: right;\">\n",
       "      <th></th>\n",
       "      <th>text</th>\n",
       "      <th>label</th>\n",
       "    </tr>\n",
       "  </thead>\n",
       "  <tbody>\n",
       "    <tr>\n",
       "      <th>43637</th>\n",
       "      <td>강릉어떨까요     청량리역  강릉역    시간   분대 서울역  강릉역  시간  ...</td>\n",
       "      <td>1</td>\n",
       "    </tr>\n",
       "    <tr>\n",
       "      <th>43638</th>\n",
       "      <td>답변드립니다  다음은 경주보문단지요  경주는 화엄사등  박  일로도 부족한 많은 유...</td>\n",
       "      <td>1</td>\n",
       "    </tr>\n",
       "    <tr>\n",
       "      <th>43639</th>\n",
       "      <td>강릉이요 기차타고 가시면   시  분 무궁화호타시고 주변에 카페하나가 있어요 카페에...</td>\n",
       "      <td>1</td>\n",
       "    </tr>\n",
       "    <tr>\n",
       "      <th>43640</th>\n",
       "      <td>통영만빼고는 부산 경주는기차로갈수있고 전라도쪽보다는 부산 이런곳은 교통망도 좋아서 ...</td>\n",
       "      <td>1</td>\n",
       "    </tr>\n",
       "    <tr>\n",
       "      <th>43641</th>\n",
       "      <td>통영만빼고는 부산 경주는기차로갈수있고 전라도쪽보다는 부산 이런곳은 교통망도 좋아서 ...</td>\n",
       "      <td>1</td>\n",
       "    </tr>\n",
       "  </tbody>\n",
       "</table>\n",
       "</div>"
      ],
      "text/plain": [
       "                                                    text  label\n",
       "43637  강릉어떨까요     청량리역  강릉역    시간   분대 서울역  강릉역  시간  ...      1\n",
       "43638  답변드립니다  다음은 경주보문단지요  경주는 화엄사등  박  일로도 부족한 많은 유...      1\n",
       "43639  강릉이요 기차타고 가시면   시  분 무궁화호타시고 주변에 카페하나가 있어요 카페에...      1\n",
       "43640  통영만빼고는 부산 경주는기차로갈수있고 전라도쪽보다는 부산 이런곳은 교통망도 좋아서 ...      1\n",
       "43641  통영만빼고는 부산 경주는기차로갈수있고 전라도쪽보다는 부산 이런곳은 교통망도 좋아서 ...      1"
      ]
     },
     "execution_count": 141,
     "metadata": {},
     "output_type": "execute_result"
    }
   ],
   "source": [
    "time_df = pd.DataFrame({'text': time})\n",
    "time_df['label'] = 1\n",
    "time_df.tail()"
   ]
  },
  {
   "cell_type": "code",
   "execution_count": 142,
   "metadata": {},
   "outputs": [
    {
     "data": {
      "text/html": [
       "<div>\n",
       "<style scoped>\n",
       "    .dataframe tbody tr th:only-of-type {\n",
       "        vertical-align: middle;\n",
       "    }\n",
       "\n",
       "    .dataframe tbody tr th {\n",
       "        vertical-align: top;\n",
       "    }\n",
       "\n",
       "    .dataframe thead th {\n",
       "        text-align: right;\n",
       "    }\n",
       "</style>\n",
       "<table border=\"1\" class=\"dataframe\">\n",
       "  <thead>\n",
       "    <tr style=\"text-align: right;\">\n",
       "      <th></th>\n",
       "      <th>text</th>\n",
       "      <th>label</th>\n",
       "    </tr>\n",
       "  </thead>\n",
       "  <tbody>\n",
       "    <tr>\n",
       "      <th>1174231</th>\n",
       "      <td>군산이야 당연히 바닷가죠  공단과 새만금방조제로 바다가 막혀있기는 하지만 군산은 서...</td>\n",
       "      <td>2</td>\n",
       "    </tr>\n",
       "    <tr>\n",
       "      <th>1174232</th>\n",
       "      <td>울릉도 가보세요 기상좋으면 독도까지 갔다 오시고 알아두세요  위 답변은 답변작성자가...</td>\n",
       "      <td>2</td>\n",
       "    </tr>\n",
       "    <tr>\n",
       "      <th>1174233</th>\n",
       "      <td>강원도 동해시 괜찮습니다  강릉도 좋구요 알아두세요  위 답변은 답변작성자가 경험과...</td>\n",
       "      <td>2</td>\n",
       "    </tr>\n",
       "    <tr>\n",
       "      <th>1174234</th>\n",
       "      <td>여수로가면 볼거리 먹거리 놀거리 좋아요 하멜등대 고소동벽화마을 오동도 자산공원 케이...</td>\n",
       "      <td>2</td>\n",
       "    </tr>\n",
       "    <tr>\n",
       "      <th>1174235</th>\n",
       "      <td>강릉 까지가도 되겠네요 강릉 강문해변 안목해변 커피거리 경포호 해변 오죽헌 선교장 ...</td>\n",
       "      <td>2</td>\n",
       "    </tr>\n",
       "  </tbody>\n",
       "</table>\n",
       "</div>"
      ],
      "text/plain": [
       "                                                      text  label\n",
       "1174231  군산이야 당연히 바닷가죠  공단과 새만금방조제로 바다가 막혀있기는 하지만 군산은 서...      2\n",
       "1174232  울릉도 가보세요 기상좋으면 독도까지 갔다 오시고 알아두세요  위 답변은 답변작성자가...      2\n",
       "1174233  강원도 동해시 괜찮습니다  강릉도 좋구요 알아두세요  위 답변은 답변작성자가 경험과...      2\n",
       "1174234  여수로가면 볼거리 먹거리 놀거리 좋아요 하멜등대 고소동벽화마을 오동도 자산공원 케이...      2\n",
       "1174235  강릉 까지가도 되겠네요 강릉 강문해변 안목해변 커피거리 경포호 해변 오죽헌 선교장 ...      2"
      ]
     },
     "execution_count": 142,
     "metadata": {},
     "output_type": "execute_result"
    }
   ],
   "source": [
    "etc_df = pd.DataFrame({'text': etc})\n",
    "etc_df['label'] = 2\n",
    "etc_df.tail()"
   ]
  },
  {
   "cell_type": "code",
   "execution_count": 143,
   "metadata": {},
   "outputs": [
    {
     "data": {
      "text/plain": [
       "[]"
      ]
     },
     "execution_count": 143,
     "metadata": {},
     "output_type": "execute_result"
    }
   ],
   "source": [
    "nan"
   ]
  },
  {
   "cell_type": "code",
   "execution_count": 153,
   "metadata": {},
   "outputs": [
    {
     "data": {
      "text/plain": [
       "(1257948, 2)"
      ]
     },
     "execution_count": 153,
     "metadata": {},
     "output_type": "execute_result"
    }
   ],
   "source": [
    "total_train_data = pd.concat([place_df, time_df, etc_df], axis=0)\n",
    "total_train_data.reset_index(drop=True, inplace=True)\n",
    "total_train_data.shape"
   ]
  },
  {
   "cell_type": "code",
   "execution_count": 154,
   "metadata": {},
   "outputs": [
    {
     "data": {
      "text/html": [
       "<div>\n",
       "<style scoped>\n",
       "    .dataframe tbody tr th:only-of-type {\n",
       "        vertical-align: middle;\n",
       "    }\n",
       "\n",
       "    .dataframe tbody tr th {\n",
       "        vertical-align: top;\n",
       "    }\n",
       "\n",
       "    .dataframe thead th {\n",
       "        text-align: right;\n",
       "    }\n",
       "</style>\n",
       "<table border=\"1\" class=\"dataframe\">\n",
       "  <thead>\n",
       "    <tr style=\"text-align: right;\">\n",
       "      <th></th>\n",
       "      <th>text</th>\n",
       "      <th>label</th>\n",
       "    </tr>\n",
       "  </thead>\n",
       "  <tbody>\n",
       "    <tr>\n",
       "      <th>0</th>\n",
       "      <td>저희가 부산 해운대구에는   주소 에 있는 센타가 있고요</td>\n",
       "      <td>0</td>\n",
       "    </tr>\n",
       "    <tr>\n",
       "      <th>1</th>\n",
       "      <td>아니시면   주소 에 있는 작은 분점도 확인되고 있습니다</td>\n",
       "      <td>0</td>\n",
       "    </tr>\n",
       "    <tr>\n",
       "      <th>2</th>\n",
       "      <td>주소 이 나을 거 같아요</td>\n",
       "      <td>0</td>\n",
       "    </tr>\n",
       "    <tr>\n",
       "      <th>3</th>\n",
       "      <td>그러세요 그러시다면   주소 은 지하철 장산역 십 사 번 출구에 있구요</td>\n",
       "      <td>0</td>\n",
       "    </tr>\n",
       "    <tr>\n",
       "      <th>4</th>\n",
       "      <td>아까 주소 얘기 하다가 끊어졌죠  주소 에 있는   주소 에요</td>\n",
       "      <td>0</td>\n",
       "    </tr>\n",
       "    <tr>\n",
       "      <th>...</th>\n",
       "      <td>...</td>\n",
       "      <td>...</td>\n",
       "    </tr>\n",
       "    <tr>\n",
       "      <th>40065</th>\n",
       "      <td>문의주신 내용에 대한 답변 드립니다     경기도와 강원도 사이에 위치한 남이섬은 ...</td>\n",
       "      <td>0</td>\n",
       "    </tr>\n",
       "    <tr>\n",
       "      <th>40066</th>\n",
       "      <td>안녕하세요  부산에 가볼만한곳도많고 맛집도 너무많아서 고민이 많이되실꺼에요 ㅜㅜ 부...</td>\n",
       "      <td>0</td>\n",
       "    </tr>\n",
       "    <tr>\n",
       "      <th>40067</th>\n",
       "      <td>저는 강원도에 안번데기 다녀왔는데 너무 좋았어서 추천드립니다  답변해드리면서 강원도...</td>\n",
       "      <td>0</td>\n",
       "    </tr>\n",
       "    <tr>\n",
       "      <th>40068</th>\n",
       "      <td>포항에 일본가옥거리 추천해드릴게요  작은 골목이라서 넓지는 않지만 옛날 생각나는 불...</td>\n",
       "      <td>0</td>\n",
       "    </tr>\n",
       "    <tr>\n",
       "      <th>40069</th>\n",
       "      <td>국제슬로시티로 지정된 전주 한옥마을 추천합니다  용산역에서 전라선기차와 시외 고속버...</td>\n",
       "      <td>0</td>\n",
       "    </tr>\n",
       "  </tbody>\n",
       "</table>\n",
       "<p>40070 rows × 2 columns</p>\n",
       "</div>"
      ],
      "text/plain": [
       "                                                    text  label\n",
       "0                        저희가 부산 해운대구에는   주소 에 있는 센타가 있고요      0\n",
       "1                        아니시면   주소 에 있는 작은 분점도 확인되고 있습니다      0\n",
       "2                                          주소 이 나을 거 같아요      0\n",
       "3                그러세요 그러시다면   주소 은 지하철 장산역 십 사 번 출구에 있구요      0\n",
       "4                     아까 주소 얘기 하다가 끊어졌죠  주소 에 있는   주소 에요      0\n",
       "...                                                  ...    ...\n",
       "40065  문의주신 내용에 대한 답변 드립니다     경기도와 강원도 사이에 위치한 남이섬은 ...      0\n",
       "40066  안녕하세요  부산에 가볼만한곳도많고 맛집도 너무많아서 고민이 많이되실꺼에요 ㅜㅜ 부...      0\n",
       "40067  저는 강원도에 안번데기 다녀왔는데 너무 좋았어서 추천드립니다  답변해드리면서 강원도...      0\n",
       "40068  포항에 일본가옥거리 추천해드릴게요  작은 골목이라서 넓지는 않지만 옛날 생각나는 불...      0\n",
       "40069  국제슬로시티로 지정된 전주 한옥마을 추천합니다  용산역에서 전라선기차와 시외 고속버...      0\n",
       "\n",
       "[40070 rows x 2 columns]"
      ]
     },
     "execution_count": 154,
     "metadata": {},
     "output_type": "execute_result"
    }
   ],
   "source": [
    "total_train_data[total_train_data['label'] == 0]"
   ]
  },
  {
   "cell_type": "code",
   "execution_count": 155,
   "metadata": {},
   "outputs": [
    {
     "data": {
      "text/html": [
       "<div>\n",
       "<style scoped>\n",
       "    .dataframe tbody tr th:only-of-type {\n",
       "        vertical-align: middle;\n",
       "    }\n",
       "\n",
       "    .dataframe tbody tr th {\n",
       "        vertical-align: top;\n",
       "    }\n",
       "\n",
       "    .dataframe thead th {\n",
       "        text-align: right;\n",
       "    }\n",
       "</style>\n",
       "<table border=\"1\" class=\"dataframe\">\n",
       "  <thead>\n",
       "    <tr style=\"text-align: right;\">\n",
       "      <th></th>\n",
       "      <th>text</th>\n",
       "      <th>label</th>\n",
       "    </tr>\n",
       "  </thead>\n",
       "  <tbody>\n",
       "    <tr>\n",
       "      <th>40070</th>\n",
       "      <td>언제 쯤 연락을 해주셨나요 담당자님이랑요</td>\n",
       "      <td>1</td>\n",
       "    </tr>\n",
       "    <tr>\n",
       "      <th>40071</th>\n",
       "      <td>네 확인 감사합니다 혹시 이거 언제 어제 보내셨나요</td>\n",
       "      <td>1</td>\n",
       "    </tr>\n",
       "    <tr>\n",
       "      <th>40072</th>\n",
       "      <td>한 몇 시간 된 거 같은데 세네 시간 됐을까</td>\n",
       "      <td>1</td>\n",
       "    </tr>\n",
       "    <tr>\n",
       "      <th>40073</th>\n",
       "      <td>두 시간 두세 시간 됐나요</td>\n",
       "      <td>1</td>\n",
       "    </tr>\n",
       "    <tr>\n",
       "      <th>40074</th>\n",
       "      <td>지금 송금시킬게요 언제 정도 택배가 와요</td>\n",
       "      <td>1</td>\n",
       "    </tr>\n",
       "    <tr>\n",
       "      <th>...</th>\n",
       "      <td>...</td>\n",
       "      <td>...</td>\n",
       "    </tr>\n",
       "    <tr>\n",
       "      <th>83707</th>\n",
       "      <td>강릉어떨까요     청량리역  강릉역    시간   분대 서울역  강릉역  시간  ...</td>\n",
       "      <td>1</td>\n",
       "    </tr>\n",
       "    <tr>\n",
       "      <th>83708</th>\n",
       "      <td>답변드립니다  다음은 경주보문단지요  경주는 화엄사등  박  일로도 부족한 많은 유...</td>\n",
       "      <td>1</td>\n",
       "    </tr>\n",
       "    <tr>\n",
       "      <th>83709</th>\n",
       "      <td>강릉이요 기차타고 가시면   시  분 무궁화호타시고 주변에 카페하나가 있어요 카페에...</td>\n",
       "      <td>1</td>\n",
       "    </tr>\n",
       "    <tr>\n",
       "      <th>83710</th>\n",
       "      <td>통영만빼고는 부산 경주는기차로갈수있고 전라도쪽보다는 부산 이런곳은 교통망도 좋아서 ...</td>\n",
       "      <td>1</td>\n",
       "    </tr>\n",
       "    <tr>\n",
       "      <th>83711</th>\n",
       "      <td>통영만빼고는 부산 경주는기차로갈수있고 전라도쪽보다는 부산 이런곳은 교통망도 좋아서 ...</td>\n",
       "      <td>1</td>\n",
       "    </tr>\n",
       "  </tbody>\n",
       "</table>\n",
       "<p>43642 rows × 2 columns</p>\n",
       "</div>"
      ],
      "text/plain": [
       "                                                    text  label\n",
       "40070                             언제 쯤 연락을 해주셨나요 담당자님이랑요      1\n",
       "40071                       네 확인 감사합니다 혹시 이거 언제 어제 보내셨나요      1\n",
       "40072                           한 몇 시간 된 거 같은데 세네 시간 됐을까      1\n",
       "40073                                     두 시간 두세 시간 됐나요      1\n",
       "40074                             지금 송금시킬게요 언제 정도 택배가 와요      1\n",
       "...                                                  ...    ...\n",
       "83707  강릉어떨까요     청량리역  강릉역    시간   분대 서울역  강릉역  시간  ...      1\n",
       "83708  답변드립니다  다음은 경주보문단지요  경주는 화엄사등  박  일로도 부족한 많은 유...      1\n",
       "83709  강릉이요 기차타고 가시면   시  분 무궁화호타시고 주변에 카페하나가 있어요 카페에...      1\n",
       "83710  통영만빼고는 부산 경주는기차로갈수있고 전라도쪽보다는 부산 이런곳은 교통망도 좋아서 ...      1\n",
       "83711  통영만빼고는 부산 경주는기차로갈수있고 전라도쪽보다는 부산 이런곳은 교통망도 좋아서 ...      1\n",
       "\n",
       "[43642 rows x 2 columns]"
      ]
     },
     "execution_count": 155,
     "metadata": {},
     "output_type": "execute_result"
    }
   ],
   "source": [
    "total_train_data[total_train_data['label'] == 1]"
   ]
  },
  {
   "cell_type": "code",
   "execution_count": 156,
   "metadata": {},
   "outputs": [
    {
     "data": {
      "text/html": [
       "<div>\n",
       "<style scoped>\n",
       "    .dataframe tbody tr th:only-of-type {\n",
       "        vertical-align: middle;\n",
       "    }\n",
       "\n",
       "    .dataframe tbody tr th {\n",
       "        vertical-align: top;\n",
       "    }\n",
       "\n",
       "    .dataframe thead th {\n",
       "        text-align: right;\n",
       "    }\n",
       "</style>\n",
       "<table border=\"1\" class=\"dataframe\">\n",
       "  <thead>\n",
       "    <tr style=\"text-align: right;\">\n",
       "      <th></th>\n",
       "      <th>text</th>\n",
       "      <th>label</th>\n",
       "    </tr>\n",
       "  </thead>\n",
       "  <tbody>\n",
       "    <tr>\n",
       "      <th>83712</th>\n",
       "      <td>반갑습니다   소속  상담사   이름 입니다</td>\n",
       "      <td>2</td>\n",
       "    </tr>\n",
       "    <tr>\n",
       "      <th>83713</th>\n",
       "      <td>안내해주신 방법을 시도해 봤는데 안 돼서요</td>\n",
       "      <td>2</td>\n",
       "    </tr>\n",
       "    <tr>\n",
       "      <th>83714</th>\n",
       "      <td>그러시다면 두 번째 방법은요</td>\n",
       "      <td>2</td>\n",
       "    </tr>\n",
       "    <tr>\n",
       "      <th>83715</th>\n",
       "      <td>휴대폰 명의자 본인이요</td>\n",
       "      <td>2</td>\n",
       "    </tr>\n",
       "    <tr>\n",
       "      <th>83716</th>\n",
       "      <td>휴대폰하고 신분증 챙기셔서 저희 서비스센터 쪽으로 방문 하셔야 되세요 고객님</td>\n",
       "      <td>2</td>\n",
       "    </tr>\n",
       "    <tr>\n",
       "      <th>...</th>\n",
       "      <td>...</td>\n",
       "      <td>...</td>\n",
       "    </tr>\n",
       "    <tr>\n",
       "      <th>1257943</th>\n",
       "      <td>군산이야 당연히 바닷가죠  공단과 새만금방조제로 바다가 막혀있기는 하지만 군산은 서...</td>\n",
       "      <td>2</td>\n",
       "    </tr>\n",
       "    <tr>\n",
       "      <th>1257944</th>\n",
       "      <td>울릉도 가보세요 기상좋으면 독도까지 갔다 오시고 알아두세요  위 답변은 답변작성자가...</td>\n",
       "      <td>2</td>\n",
       "    </tr>\n",
       "    <tr>\n",
       "      <th>1257945</th>\n",
       "      <td>강원도 동해시 괜찮습니다  강릉도 좋구요 알아두세요  위 답변은 답변작성자가 경험과...</td>\n",
       "      <td>2</td>\n",
       "    </tr>\n",
       "    <tr>\n",
       "      <th>1257946</th>\n",
       "      <td>여수로가면 볼거리 먹거리 놀거리 좋아요 하멜등대 고소동벽화마을 오동도 자산공원 케이...</td>\n",
       "      <td>2</td>\n",
       "    </tr>\n",
       "    <tr>\n",
       "      <th>1257947</th>\n",
       "      <td>강릉 까지가도 되겠네요 강릉 강문해변 안목해변 커피거리 경포호 해변 오죽헌 선교장 ...</td>\n",
       "      <td>2</td>\n",
       "    </tr>\n",
       "  </tbody>\n",
       "</table>\n",
       "<p>1174236 rows × 2 columns</p>\n",
       "</div>"
      ],
      "text/plain": [
       "                                                      text  label\n",
       "83712                             반갑습니다   소속  상담사   이름 입니다      2\n",
       "83713                              안내해주신 방법을 시도해 봤는데 안 돼서요      2\n",
       "83714                                      그러시다면 두 번째 방법은요      2\n",
       "83715                                         휴대폰 명의자 본인이요      2\n",
       "83716           휴대폰하고 신분증 챙기셔서 저희 서비스센터 쪽으로 방문 하셔야 되세요 고객님      2\n",
       "...                                                    ...    ...\n",
       "1257943  군산이야 당연히 바닷가죠  공단과 새만금방조제로 바다가 막혀있기는 하지만 군산은 서...      2\n",
       "1257944  울릉도 가보세요 기상좋으면 독도까지 갔다 오시고 알아두세요  위 답변은 답변작성자가...      2\n",
       "1257945  강원도 동해시 괜찮습니다  강릉도 좋구요 알아두세요  위 답변은 답변작성자가 경험과...      2\n",
       "1257946  여수로가면 볼거리 먹거리 놀거리 좋아요 하멜등대 고소동벽화마을 오동도 자산공원 케이...      2\n",
       "1257947  강릉 까지가도 되겠네요 강릉 강문해변 안목해변 커피거리 경포호 해변 오죽헌 선교장 ...      2\n",
       "\n",
       "[1174236 rows x 2 columns]"
      ]
     },
     "execution_count": 156,
     "metadata": {},
     "output_type": "execute_result"
    }
   ],
   "source": [
    "total_train_data[total_train_data['label'] == 2]"
   ]
  },
  {
   "cell_type": "code",
   "execution_count": 157,
   "metadata": {},
   "outputs": [],
   "source": [
    "total_train_data.to_csv('../data/수정데이터/total_train_data.csv', index=False)"
   ]
  },
  {
   "attachments": {},
   "cell_type": "markdown",
   "metadata": {},
   "source": [
    "## 3. 적절한 패딩 길이 탐색"
   ]
  },
  {
   "cell_type": "code",
   "execution_count": 158,
   "metadata": {},
   "outputs": [],
   "source": [
    "total_train_data = pd.read_csv('../data/수정데이터/total_train_data.csv')"
   ]
  },
  {
   "cell_type": "code",
   "execution_count": 159,
   "metadata": {},
   "outputs": [],
   "source": [
    "tokenizer = Komoran()"
   ]
  },
  {
   "cell_type": "code",
   "execution_count": 163,
   "metadata": {},
   "outputs": [],
   "source": [
    "data_tokenized = [[token + '/' + POS for token, POS in tokenizer.pos(text)] for text in total_train_data['text']]"
   ]
  },
  {
   "cell_type": "code",
   "execution_count": 165,
   "metadata": {},
   "outputs": [],
   "source": [
    "exclusion_tags = [\n",
    "    \"JKS\", \"JKC\", \"JKG\", \"JKO\", \"JKB\", \"JKV\", \"JKQ\",\n",
    "    \"JX\", \"JC\",\n",
    "    \"SF\", \"SP\", \"SS\", \"SE\", \"SO\",\n",
    "    \"EP\", \"EF\", \"EC\", \"ETN\", \"ETM\",\n",
    "    \"XSN\", \"XSV\", \"XSA\",\n",
    "]\n",
    "def Exclusion_tags(x):\n",
    "    return x in exclusion_tags\n",
    "\n",
    "data_list = []\n",
    "for i in range(len(data_tokenized)):\n",
    "    temp = []\n",
    "    for j in range(len(data_tokenized[i])):\n",
    "        if Exclusion_tags(data_tokenized[i][j].split('/')[1]) is False:\n",
    "            temp.append(data_tokenized[i][j].split('/')[0])\n",
    "    data_list.append(temp)"
   ]
  },
  {
   "cell_type": "code",
   "execution_count": 169,
   "metadata": {},
   "outputs": [
    {
     "data": {
      "text/plain": [
       "1257948"
      ]
     },
     "execution_count": 169,
     "metadata": {},
     "output_type": "execute_result"
    }
   ],
   "source": [
    "len(data_list)"
   ]
  },
  {
   "cell_type": "code",
   "execution_count": 181,
   "metadata": {},
   "outputs": [
    {
     "name": "stdout",
     "output_type": "stream",
     "text": [
      "토큰 길이 평균: 6.450725308200339\n",
      "토큰 길이 최대: 1984\n",
      "토큰 길이 표준편차: 9.888866319442958\n"
     ]
    }
   ],
   "source": [
    "num_tokens = [len(sent) for sent in data_list]\n",
    "num_tokens = np.array(num_tokens)\n",
    "print('토큰 길이 평균:', num_tokens.mean())\n",
    "print('토큰 길이 최대:', num_tokens.max())\n",
    "print('토큰 길이 표준편차:', num_tokens.std())"
   ]
  },
  {
   "cell_type": "code",
   "execution_count": 187,
   "metadata": {},
   "outputs": [
    {
     "name": "stdout",
     "output_type": "stream",
     "text": [
      "전체 샘플 중 길이가 15 이하인 샘플의 비율: 0.9868945298215824\n"
     ]
    }
   ],
   "source": [
    "MAX_SEQ_LEN = 15\n",
    "def below_len_rate(max_len, data_list):\n",
    "    cnt = 0\n",
    "    for s in data_list:\n",
    "        if (len(s) <= max_len):\n",
    "            cnt = cnt + 1\n",
    "\n",
    "    print(f'전체 샘플 중 길이가 {max_len} 이하인 샘플의 비율: {(cnt / len(data_list))}')\n",
    "below_len_rate(MAX_SEQ_LEN, data_list)"
   ]
  },
  {
   "cell_type": "code",
   "execution_count": null,
   "metadata": {},
   "outputs": [],
   "source": []
  }
 ],
 "metadata": {
  "kernelspec": {
   "display_name": "base",
   "language": "python",
   "name": "python3"
  },
  "language_info": {
   "codemirror_mode": {
    "name": "ipython",
    "version": 3
   },
   "file_extension": ".py",
   "mimetype": "text/x-python",
   "name": "python",
   "nbconvert_exporter": "python",
   "pygments_lexer": "ipython3",
   "version": "3.9.16"
  },
  "orig_nbformat": 4
 },
 "nbformat": 4,
 "nbformat_minor": 2
}
