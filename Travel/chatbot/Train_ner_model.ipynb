{
 "cells": [
  {
   "cell_type": "code",
   "execution_count": 1,
   "metadata": {},
   "outputs": [],
   "source": [
    "import pandas as pd\n",
    "import tensorflow as tf\n",
    "from tensorflow.keras import preprocessing\n",
    "from sklearn.model_selection import train_test_split\n",
    "import numpy as np\n",
    "from Preprocess import Preprocess\n",
    "from tensorflow.keras import Model\n",
    "from tensorflow.keras.models import Sequential\n",
    "from tensorflow.keras.layers import Dense, LSTM, Input, Bidirectional, TimeDistributed, Embedding, Dropout\n",
    "from tensorflow.keras.optimizers import Adam\n",
    "import ast\n",
    "\n",
    "gpus = tf.config.experimental.list_physical_devices('GPU')\n",
    "if gpus:\n",
    "    try:\n",
    "        for gpu in gpus:\n",
    "            tf.config.experimental.set_memory_growth(gpu, True)\n",
    "    except RuntimeError as e:\n",
    "        print(e)"
   ]
  },
  {
   "cell_type": "code",
   "execution_count": 2,
   "metadata": {},
   "outputs": [
    {
     "data": {
      "text/html": [
       "<div>\n",
       "<style scoped>\n",
       "    .dataframe tbody tr th:only-of-type {\n",
       "        vertical-align: middle;\n",
       "    }\n",
       "\n",
       "    .dataframe tbody tr th {\n",
       "        vertical-align: top;\n",
       "    }\n",
       "\n",
       "    .dataframe thead th {\n",
       "        text-align: right;\n",
       "    }\n",
       "</style>\n",
       "<table border=\"1\" class=\"dataframe\">\n",
       "  <thead>\n",
       "    <tr style=\"text-align: right;\">\n",
       "      <th></th>\n",
       "      <th>text</th>\n",
       "      <th>nouns</th>\n",
       "      <th>match</th>\n",
       "    </tr>\n",
       "  </thead>\n",
       "  <tbody>\n",
       "    <tr>\n",
       "      <th>0</th>\n",
       "      <td>반갑습니다   소속  상담사   이름입니다</td>\n",
       "      <td>['반갑습니다', '소속', '상담', '사', '이름']</td>\n",
       "      <td>[('반갑습니다', 'B_G'), ('소속', 'O'), ('상담', 'O'), (...</td>\n",
       "    </tr>\n",
       "    <tr>\n",
       "      <th>1</th>\n",
       "      <td>안내해 주신 방법을 시도해 봤는데 안 돼서요</td>\n",
       "      <td>['안내', '방법', '시도']</td>\n",
       "      <td>[('안내', 'O'), ('방법', 'O'), ('시도', 'O')]</td>\n",
       "    </tr>\n",
       "    <tr>\n",
       "      <th>2</th>\n",
       "      <td>그러시다면 두 번째 방법은요</td>\n",
       "      <td>['번', '방법']</td>\n",
       "      <td>[('번', 'O'), ('방법', 'O')]</td>\n",
       "    </tr>\n",
       "    <tr>\n",
       "      <th>3</th>\n",
       "      <td>휴대폰 명의자 본인이요</td>\n",
       "      <td>['휴대폰', '명의자', '본인']</td>\n",
       "      <td>[('휴대폰', 'O'), ('명의자', 'O'), ('본인', 'O')]</td>\n",
       "    </tr>\n",
       "    <tr>\n",
       "      <th>4</th>\n",
       "      <td>휴대폰하고 신분증 챙기셔서 저희 서비스센터 쪽으로 방문하셔야 되세요 고객님</td>\n",
       "      <td>['휴대폰', '신분증', '서비스', '센터', '쪽', '방문', '고객']</td>\n",
       "      <td>[('휴대폰', 'O'), ('신분증', 'O'), ('서비스', 'O'), ('센...</td>\n",
       "    </tr>\n",
       "  </tbody>\n",
       "</table>\n",
       "</div>"
      ],
      "text/plain": [
       "                                        text  \\\n",
       "0                    반갑습니다   소속  상담사   이름입니다   \n",
       "1                   안내해 주신 방법을 시도해 봤는데 안 돼서요   \n",
       "2                            그러시다면 두 번째 방법은요   \n",
       "3                               휴대폰 명의자 본인이요   \n",
       "4  휴대폰하고 신분증 챙기셔서 저희 서비스센터 쪽으로 방문하셔야 되세요 고객님   \n",
       "\n",
       "                                          nouns  \\\n",
       "0              ['반갑습니다', '소속', '상담', '사', '이름']   \n",
       "1                            ['안내', '방법', '시도']   \n",
       "2                                   ['번', '방법']   \n",
       "3                          ['휴대폰', '명의자', '본인']   \n",
       "4  ['휴대폰', '신분증', '서비스', '센터', '쪽', '방문', '고객']   \n",
       "\n",
       "                                               match  \n",
       "0  [('반갑습니다', 'B_G'), ('소속', 'O'), ('상담', 'O'), (...  \n",
       "1            [('안내', 'O'), ('방법', 'O'), ('시도', 'O')]  \n",
       "2                          [('번', 'O'), ('방법', 'O')]  \n",
       "3          [('휴대폰', 'O'), ('명의자', 'O'), ('본인', 'O')]  \n",
       "4  [('휴대폰', 'O'), ('신분증', 'O'), ('서비스', 'O'), ('센...  "
      ]
     },
     "execution_count": 2,
     "metadata": {},
     "output_type": "execute_result"
    }
   ],
   "source": [
    "# 학습용 데이터 로드\n",
    "df = pd.read_csv('../data/수정데이터/ner_train_data.csv')\n",
    "df.head()"
   ]
  },
  {
   "cell_type": "code",
   "execution_count": 3,
   "metadata": {},
   "outputs": [],
   "source": [
    "p = Preprocess(word2index_dic='../data/chatbot_dict.bin',\n",
    "               userdic='../data/user_dic.tsv')"
   ]
  },
  {
   "cell_type": "code",
   "execution_count": 4,
   "metadata": {},
   "outputs": [
    {
     "data": {
      "text/plain": [
       "text     False\n",
       "nouns    False\n",
       "match    False\n",
       "dtype: bool"
      ]
     },
     "execution_count": 4,
     "metadata": {},
     "output_type": "execute_result"
    }
   ],
   "source": [
    "df.isnull().any()"
   ]
  },
  {
   "cell_type": "code",
   "execution_count": 5,
   "metadata": {},
   "outputs": [],
   "source": [
    "drop_idx = df[df['nouns'] == '[]'].index"
   ]
  },
  {
   "cell_type": "code",
   "execution_count": 6,
   "metadata": {},
   "outputs": [],
   "source": [
    "df.drop(index=drop_idx, inplace=True)"
   ]
  },
  {
   "cell_type": "code",
   "execution_count": 7,
   "metadata": {},
   "outputs": [
    {
     "data": {
      "text/plain": [
       "\"[('반갑습니다', 'B_G'), ('소속', 'O'), ('상담', 'O'), ('사', 'O'), ('이름', 'O')]\""
      ]
     },
     "execution_count": 7,
     "metadata": {},
     "output_type": "execute_result"
    }
   ],
   "source": [
    "df['match'][0]"
   ]
  },
  {
   "cell_type": "code",
   "execution_count": 8,
   "metadata": {},
   "outputs": [],
   "source": [
    "def Eval(x):\n",
    "    try:\n",
    "        sent = ast.literal_eval(x)\n",
    "    except:\n",
    "        try:\n",
    "            x = x.replace('nan', \"'O'\") # 태깅이 nan으로 된 값을 처리\n",
    "            sent = ast.literal_eval(x)\n",
    "        except:\n",
    "            print(x)\n",
    "    return sent"
   ]
  },
  {
   "cell_type": "code",
   "execution_count": 9,
   "metadata": {},
   "outputs": [],
   "source": [
    "tagged_sentences = df['match'].apply(Eval)"
   ]
  },
  {
   "cell_type": "code",
   "execution_count": 10,
   "metadata": {},
   "outputs": [],
   "source": [
    "sentence, tag_info = zip(*tagged_sentences[0])"
   ]
  },
  {
   "cell_type": "code",
   "execution_count": 11,
   "metadata": {},
   "outputs": [
    {
     "data": {
      "text/plain": [
       "('반갑습니다', '소속', '상담', '사', '이름')"
      ]
     },
     "execution_count": 11,
     "metadata": {},
     "output_type": "execute_result"
    }
   ],
   "source": [
    "sentence"
   ]
  },
  {
   "cell_type": "code",
   "execution_count": 12,
   "metadata": {},
   "outputs": [
    {
     "name": "stdout",
     "output_type": "stream",
     "text": [
      "샘플 개수: 1191035\n",
      "0번 째 샘플 단어 시퀀스: ['반갑습니다', '소속', '상담', '사', '이름']\n",
      "0번 째 샘플 bio 태그: ['B_G', 'O', 'O', 'O', 'O']\n",
      "샘플 단어 시퀀스 최대 길이: 123\n",
      "샘플 단어 시퀀스 평균 길이: 3.2198138593744097\n"
     ]
    }
   ],
   "source": [
    "sentences, ner_tags = [], [] \n",
    "for tagged_sentence in tagged_sentences:\n",
    "    try:\n",
    "        sentence, tag_info = zip(*tagged_sentence) \n",
    "        sentences.append(list(sentence))\n",
    "        ner_tags.append(list(tag_info))\n",
    "    except:\n",
    "        print(tagged_sentence)\n",
    "\n",
    "print('샘플 개수:', len(sentences))\n",
    "print('0번 째 샘플 단어 시퀀스:', sentences[0])\n",
    "print('0번 째 샘플 bio 태그:', ner_tags[0])\n",
    "print('샘플 단어 시퀀스 최대 길이:', max(len(l) for l in sentences))\n",
    "print('샘플 단어 시퀀스 평균 길이:', (sum(map(len, sentences)) / len(sentences)))"
   ]
  },
  {
   "cell_type": "code",
   "execution_count": 13,
   "metadata": {},
   "outputs": [
    {
     "data": {
      "image/png": "[encoded data removed]",
      "text/plain": [
       "<Figure size 640x480 with 1 Axes>"
      ]
     },
     "metadata": {},
     "output_type": "display_data"
    }
   ],
   "source": [
    "import matplotlib.pyplot as plt\n",
    "plt.hist([len(s) for s in sentences], bins=50)\n",
    "plt.xlabel('length of samples')\n",
    "plt.ylabel('number of samples')\n",
    "plt.show()"
   ]
  },
  {
   "cell_type": "code",
   "execution_count": 14,
   "metadata": {},
   "outputs": [],
   "source": [
    "# 말뭉치 데이터에서 단어와 BIO태그만 불러와 학습용 데이터셋 생성\n",
    "temp = []\n",
    "for tag in ner_tags:\n",
    "    temp += tag"
   ]
  },
  {
   "cell_type": "code",
   "execution_count": 15,
   "metadata": {},
   "outputs": [
    {
     "data": {
      "text/html": [
       "<div>\n",
       "<style scoped>\n",
       "    .dataframe tbody tr th:only-of-type {\n",
       "        vertical-align: middle;\n",
       "    }\n",
       "\n",
       "    .dataframe tbody tr th {\n",
       "        vertical-align: top;\n",
       "    }\n",
       "\n",
       "    .dataframe thead th {\n",
       "        text-align: right;\n",
       "    }\n",
       "</style>\n",
       "<table border=\"1\" class=\"dataframe\">\n",
       "  <thead>\n",
       "    <tr style=\"text-align: right;\">\n",
       "      <th></th>\n",
       "      <th>ner tag</th>\n",
       "      <th>cnt</th>\n",
       "    </tr>\n",
       "  </thead>\n",
       "  <tbody>\n",
       "    <tr>\n",
       "      <th>0</th>\n",
       "      <td>B_A</td>\n",
       "      <td>40131</td>\n",
       "    </tr>\n",
       "    <tr>\n",
       "      <th>1</th>\n",
       "      <td>B_C</td>\n",
       "      <td>108264</td>\n",
       "    </tr>\n",
       "    <tr>\n",
       "      <th>2</th>\n",
       "      <td>B_DT</td>\n",
       "      <td>155999</td>\n",
       "    </tr>\n",
       "    <tr>\n",
       "      <th>3</th>\n",
       "      <td>B_G</td>\n",
       "      <td>46214</td>\n",
       "    </tr>\n",
       "    <tr>\n",
       "      <th>4</th>\n",
       "      <td>B_P</td>\n",
       "      <td>18582</td>\n",
       "    </tr>\n",
       "    <tr>\n",
       "      <th>5</th>\n",
       "      <td>B_R</td>\n",
       "      <td>59293</td>\n",
       "    </tr>\n",
       "    <tr>\n",
       "      <th>6</th>\n",
       "      <td>B_T</td>\n",
       "      <td>14618</td>\n",
       "    </tr>\n",
       "    <tr>\n",
       "      <th>7</th>\n",
       "      <td>I</td>\n",
       "      <td>9484</td>\n",
       "    </tr>\n",
       "    <tr>\n",
       "      <th>8</th>\n",
       "      <td>O</td>\n",
       "      <td>3367902</td>\n",
       "    </tr>\n",
       "    <tr>\n",
       "      <th>9</th>\n",
       "      <td>X</td>\n",
       "      <td>14424</td>\n",
       "    </tr>\n",
       "  </tbody>\n",
       "</table>\n",
       "</div>"
      ],
      "text/plain": [
       "  ner tag      cnt\n",
       "0     B_A    40131\n",
       "1     B_C   108264\n",
       "2    B_DT   155999\n",
       "3     B_G    46214\n",
       "4     B_P    18582\n",
       "5     B_R    59293\n",
       "6     B_T    14618\n",
       "7       I     9484\n",
       "8       O  3367902\n",
       "9       X    14424"
      ]
     },
     "execution_count": 15,
     "metadata": {},
     "output_type": "execute_result"
    }
   ],
   "source": [
    "# BIO태그별 각각의 값의 개수 카운트\n",
    "tags = np.array(temp)\n",
    "\n",
    "tag, cnt = np.unique(tags, return_counts=True)\n",
    "pd.DataFrame({'ner tag': tag, 'cnt': cnt})"
   ]
  },
  {
   "cell_type": "code",
   "execution_count": 16,
   "metadata": {},
   "outputs": [],
   "source": [
    "# 토크나이저 정의\n",
    "tag_tokenizer = preprocessing.text.Tokenizer(lower=False)\n",
    "tag_tokenizer.fit_on_texts(ner_tags)"
   ]
  },
  {
   "cell_type": "code",
   "execution_count": 17,
   "metadata": {},
   "outputs": [
    {
     "name": "stdout",
     "output_type": "stream",
     "text": [
      "BIO 태그 사전 크기: 11\n",
      "단어 사전 크기: 91077\n"
     ]
    }
   ],
   "source": [
    "# 단어사전 및 태그 사전 크기\n",
    "vocab_size = len(p.word_index) + 1\n",
    "tag_size = len(tag_tokenizer.word_index) + 1\n",
    "print('BIO 태그 사전 크기:', tag_size)\n",
    "print('단어 사전 크기:', vocab_size)"
   ]
  },
  {
   "cell_type": "code",
   "execution_count": 18,
   "metadata": {},
   "outputs": [
    {
     "data": {
      "text/plain": [
       "{1: 'O',\n",
       " 2: 'B_DT',\n",
       " 3: 'B_C',\n",
       " 4: 'B_R',\n",
       " 5: 'B_G',\n",
       " 6: 'B_A',\n",
       " 7: 'B_P',\n",
       " 8: 'B_T',\n",
       " 9: 'X',\n",
       " 10: 'I',\n",
       " 0: 'PAD'}"
      ]
     },
     "execution_count": 18,
     "metadata": {},
     "output_type": "execute_result"
    }
   ],
   "source": [
    "# 학습용 단어 시퀀스 생성\n",
    "x_train = [p.get_wordidx_sequence(sent) for sent in sentences]\n",
    "y_train = tag_tokenizer.texts_to_sequences(ner_tags)\n",
    "index_to_ner = tag_tokenizer.index_word # 시퀀스 인덱스를 NER로 변환 하기 위해 사용\n",
    "index_to_ner[0] = 'PAD'\n",
    "index_to_ner"
   ]
  },
  {
   "cell_type": "code",
   "execution_count": 19,
   "metadata": {},
   "outputs": [],
   "source": [
    "# 시퀀스 패딩 처리\n",
    "max_len = 30\n",
    "x_train = preprocessing.sequence.pad_sequences(x_train, padding='post', maxlen=max_len)\n",
    "y_train = preprocessing.sequence.pad_sequences(y_train, padding='post', maxlen=max_len)"
   ]
  },
  {
   "cell_type": "code",
   "execution_count": 20,
   "metadata": {},
   "outputs": [],
   "source": [
    "# 학습 데이터와 테스트 데이터 분리\n",
    "x_train, x_test, y_train, y_test = train_test_split(x_train, y_train, test_size=0.2, random_state=10)"
   ]
  },
  {
   "cell_type": "code",
   "execution_count": 21,
   "metadata": {},
   "outputs": [
    {
     "name": "stdout",
     "output_type": "stream",
     "text": [
      "학습 샘플 시퀀스 형상: (952828, 30)\n",
      "학습 샘플 레이블 형상: (952828, 30, 11)\n",
      "테스트 샘플 시퀀스 형상: (238207, 30)\n",
      "테스트 샘플 레이블 형상: (238207, 30, 11)\n"
     ]
    }
   ],
   "source": [
    "# 출력 데이터 원핫인코딩\n",
    "y_train = tf.keras.utils.to_categorical(y_train, num_classes=tag_size)\n",
    "y_test = tf.keras.utils.to_categorical(y_test, num_classes=tag_size)\n",
    "\n",
    "print('학습 샘플 시퀀스 형상:', x_train.shape)\n",
    "print('학습 샘플 레이블 형상:', y_train.shape)\n",
    "print('테스트 샘플 시퀀스 형상:', x_test.shape)\n",
    "print('테스트 샘플 레이블 형상:', y_test.shape)"
   ]
  },
  {
   "cell_type": "code",
   "execution_count": 22,
   "metadata": {},
   "outputs": [
    {
     "name": "stdout",
     "output_type": "stream",
     "text": [
      "WARNING:tensorflow:Layer lstm will not use cuDNN kernels since it doesn't meet the criteria. It will use a generic GPU kernel as fallback when running on GPU.\n",
      "WARNING:tensorflow:Layer lstm will not use cuDNN kernels since it doesn't meet the criteria. It will use a generic GPU kernel as fallback when running on GPU.\n",
      "WARNING:tensorflow:Layer lstm will not use cuDNN kernels since it doesn't meet the criteria. It will use a generic GPU kernel as fallback when running on GPU.\n",
      "Epoch 1/10\n",
      "7444/7444 [==============================] - 3532s 473ms/step - loss: 0.0031 - accuracy: 0.9945\n",
      "Epoch 2/10\n",
      "7444/7444 [==============================] - 4496s 604ms/step - loss: 4.3494e-04 - accuracy: 0.9991\n",
      "Epoch 3/10\n",
      "7444/7444 [==============================] - 4384s 589ms/step - loss: 3.4542e-04 - accuracy: 0.9992\n",
      "Epoch 4/10\n",
      "7444/7444 [==============================] - 3309s 444ms/step - loss: 3.0008e-04 - accuracy: 0.9993\n",
      "Epoch 5/10\n",
      "7444/7444 [==============================] - 3296s 443ms/step - loss: 2.7610e-04 - accuracy: 0.9994\n",
      "Epoch 6/10\n",
      "7444/7444 [==============================] - 3289s 442ms/step - loss: 2.5806e-04 - accuracy: 0.9994\n",
      "Epoch 7/10\n",
      "7444/7444 [==============================] - 3290s 442ms/step - loss: 2.4377e-04 - accuracy: 0.9994\n",
      "Epoch 8/10\n",
      "7444/7444 [==============================] - 3316s 445ms/step - loss: 2.3524e-04 - accuracy: 0.9994\n",
      "Epoch 9/10\n",
      "7444/7444 [==============================] - 3308s 444ms/step - loss: 2.2847e-04 - accuracy: 0.9995\n",
      "Epoch 10/10\n",
      "7444/7444 [==============================] - 3312s 445ms/step - loss: 2.2501e-04 - accuracy: 0.9995\n"
     ]
    }
   ],
   "source": [
    "# 모델 정의 (Bi-LSTM)\n",
    "model = Sequential()\n",
    "model.add(Embedding(input_dim=vocab_size, output_dim=256, input_length=max_len, mask_zero=True))\n",
    "model.add(Bidirectional(LSTM(256, return_sequences=True, dropout=0.40, recurrent_dropout=0.25)))\n",
    "model.add(TimeDistributed(Dense(tag_size, activation='softmax')))\n",
    "# model.compile(loss='sparse_categorical_crossentropy', optimizer=Adam(0.0001), metrics=['accuracy'])\n",
    "model.compile(loss='categorical_crossentropy', optimizer=Adam(0.001), metrics=['accuracy'])\n",
    "model.fit(x_train, y_train, batch_size=128, epochs=10)\n",
    "model.save('./model/ner_model.h5')"
   ]
  },
  {
   "cell_type": "code",
   "execution_count": 23,
   "metadata": {},
   "outputs": [
    {
     "name": "stdout",
     "output_type": "stream",
     "text": [
      "WARNING:tensorflow:Layer lstm will not use cuDNN kernels since it doesn't meet the criteria. It will use a generic GPU kernel as fallback when running on GPU.\n",
      "WARNING:tensorflow:Layer lstm will not use cuDNN kernels since it doesn't meet the criteria. It will use a generic GPU kernel as fallback when running on GPU.\n",
      "WARNING:tensorflow:Layer lstm will not use cuDNN kernels since it doesn't meet the criteria. It will use a generic GPU kernel as fallback when running on GPU.\n",
      "7444/7444 [==============================] - 442s 59ms/step - loss: 0.0012 - accuracy: 0.9985\n",
      "평가 결과: 0.9985098242759705\n"
     ]
    }
   ],
   "source": [
    "# 모델 평가\n",
    "from tensorflow import keras\n",
    "model = keras.models.load_model('./model/ner_model.h5')\n",
    "print('평가 결과:', model.evaluate(x_test, y_test)[1])"
   ]
  },
  {
   "cell_type": "code",
   "execution_count": 24,
   "metadata": {},
   "outputs": [],
   "source": [
    "# 시퀀스를 NER 태그로 변환하는 함수\n",
    "def sequences_to_tag(sequences):\n",
    "    result = []\n",
    "    for sequence in sequences:\n",
    "        temp = []\n",
    "        for pred in sequence:\n",
    "            pred_index = np.argmax(pred)\n",
    "            temp.append(index_to_ner[pred_index].replace('PAD', 'O'))\n",
    "        result.append(temp)\n",
    "    return result"
   ]
  },
  {
   "cell_type": "code",
   "execution_count": 25,
   "metadata": {},
   "outputs": [
    {
     "name": "stdout",
     "output_type": "stream",
     "text": [
      "7444/7444 [==============================] - 444s 60ms/step\n"
     ]
    },
    {
     "name": "stderr",
     "output_type": "stream",
     "text": [
      "c:\\Users\\user\\anaconda3\\lib\\site-packages\\seqeval\\metrics\\sequence_labeling.py:171: UserWarning: X seems not to be NE tag.\n",
      "  warnings.warn('{} seems not to be NE tag.'.format(chunk))\n",
      "c:\\Users\\user\\anaconda3\\lib\\site-packages\\seqeval\\metrics\\sequence_labeling.py:171: UserWarning: B_C seems not to be NE tag.\n",
      "  warnings.warn('{} seems not to be NE tag.'.format(chunk))\n",
      "c:\\Users\\user\\anaconda3\\lib\\site-packages\\seqeval\\metrics\\sequence_labeling.py:171: UserWarning: B_DT seems not to be NE tag.\n",
      "  warnings.warn('{} seems not to be NE tag.'.format(chunk))\n",
      "c:\\Users\\user\\anaconda3\\lib\\site-packages\\seqeval\\metrics\\sequence_labeling.py:171: UserWarning: B_R seems not to be NE tag.\n",
      "  warnings.warn('{} seems not to be NE tag.'.format(chunk))\n",
      "c:\\Users\\user\\anaconda3\\lib\\site-packages\\seqeval\\metrics\\sequence_labeling.py:171: UserWarning: B_G seems not to be NE tag.\n",
      "  warnings.warn('{} seems not to be NE tag.'.format(chunk))\n",
      "c:\\Users\\user\\anaconda3\\lib\\site-packages\\seqeval\\metrics\\sequence_labeling.py:171: UserWarning: B_T seems not to be NE tag.\n",
      "  warnings.warn('{} seems not to be NE tag.'.format(chunk))\n",
      "c:\\Users\\user\\anaconda3\\lib\\site-packages\\seqeval\\metrics\\sequence_labeling.py:171: UserWarning: B_P seems not to be NE tag.\n",
      "  warnings.warn('{} seems not to be NE tag.'.format(chunk))\n",
      "c:\\Users\\user\\anaconda3\\lib\\site-packages\\seqeval\\metrics\\sequence_labeling.py:171: UserWarning: B_A seems not to be NE tag.\n",
      "  warnings.warn('{} seems not to be NE tag.'.format(chunk))\n"
     ]
    },
    {
     "name": "stdout",
     "output_type": "stream",
     "text": [
      "              precision    recall  f1-score   support\n",
      "\n",
      "           _       1.00      1.00      1.00      1991\n",
      "          _A       0.99      0.96      0.98      7950\n",
      "          _C       1.00      1.00      1.00     21697\n",
      "         _DT       1.00      0.99      0.99     31229\n",
      "          _G       1.00      1.00      1.00      9215\n",
      "          _P       0.99      0.96      0.98      3621\n",
      "          _R       1.00      0.99      0.99     11306\n",
      "          _T       1.00      0.99      0.99      2925\n",
      "\n",
      "   micro avg       1.00      0.99      0.99     89934\n",
      "   macro avg       1.00      0.99      0.99     89934\n",
      "weighted avg       1.00      0.99      0.99     89934\n",
      "\n",
      "F1-score: 99.4%\n"
     ]
    }
   ],
   "source": [
    "# f1 스코어\n",
    "from seqeval.metrics import f1_score, classification_report\n",
    "y_predicted = model.predict([x_test]) # 테스트 데이터셋의 NER 예측\n",
    "pred_tags = sequences_to_tag(y_predicted) # 예측된 NER\n",
    "test_tags = sequences_to_tag(y_test) # 실제 NER\n",
    "print(classification_report(test_tags, pred_tags))\n",
    "print('F1-score: {:.1%}'.format(f1_score(test_tags, pred_tags)))"
   ]
  },
  {
   "cell_type": "code",
   "execution_count": null,
   "metadata": {},
   "outputs": [],
   "source": []
  }
 ],
 "metadata": {
  "kernelspec": {
   "display_name": "base",
   "language": "python",
   "name": "python3"
  },
  "language_info": {
   "codemirror_mode": {
    "name": "ipython",
    "version": 3
   },
   "file_extension": ".py",
   "mimetype": "text/x-python",
   "name": "python",
   "nbconvert_exporter": "python",
   "pygments_lexer": "ipython3",
   "version": "3.9.16"
  },
  "orig_nbformat": 4
 },
 "nbformat": 4,
 "nbformat_minor": 2
}
