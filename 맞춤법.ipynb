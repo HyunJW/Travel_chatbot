{
 "cells": [
  {
   "cell_type": "code",
   "execution_count": 16,
   "metadata": {},
   "outputs": [],
   "source": [
    "a = ['외그래','안되','욷겨','금새','배곱파','새상에!','넘','증말']"
   ]
  },
  {
   "cell_type": "code",
   "execution_count": 17,
   "metadata": {},
   "outputs": [],
   "source": [
    "from hanspell import spell_checker\n",
    "new = []\n",
    "\n",
    "for i in range(len(a)):\n",
    "    result = spell_checker.check(a[i])\n",
    "    new.append(result)"
   ]
  },
  {
   "cell_type": "code",
   "execution_count": 18,
   "metadata": {},
   "outputs": [
    {
     "data": {
      "text/plain": [
       "[Checked(result=True, original='외그래', checked='왜 그래', errors=1, words=OrderedDict([('<em', 0), (\"class='blue_text'>왜\", 0), ('그래</em>', 0)]), time=0.03401827812194824),\n",
       " Checked(result=True, original='안되', checked='안돼', errors=1, words=OrderedDict([('<em', 0), (\"class='red_text'>안돼</em>\", 0)]), time=0.017525672912597656),\n",
       " Checked(result=True, original='욷겨', checked='욷겨', errors=1, words=OrderedDict([('<em', 0), (\"class='violet_text'>욷겨</em>\", 0)]), time=0.017302274703979492),\n",
       " Checked(result=True, original='금새', checked='금세', errors=1, words=OrderedDict([('<em', 0), (\"class='red_text'>금세</em>\", 0)]), time=0.014307737350463867),\n",
       " Checked(result=True, original='배곱파', checked='배고파', errors=1, words=OrderedDict([('<em', 0), (\"class='red_text'>배고파</em>\", 0)]), time=0.01501917839050293),\n",
       " Checked(result=True, original='새상에!', checked='세상에!', errors=1, words=OrderedDict([('<em', 0), (\"class='red_text'>세상에!</em>\", 0)]), time=0.015944719314575195),\n",
       " Checked(result=True, original='넘', checked='너무', errors=1, words=OrderedDict([('<em', 0), (\"class='blue_text'>너무</em>\", 0)]), time=0.029353618621826172),\n",
       " Checked(result=True, original='증말', checked='정말', errors=1, words=OrderedDict([('<em', 0), (\"class='red_text'>정말</em>\", 0)]), time=0.012934207916259766)]"
      ]
     },
     "execution_count": 18,
     "metadata": {},
     "output_type": "execute_result"
    }
   ],
   "source": [
    "new"
   ]
  },
  {
   "cell_type": "code",
   "execution_count": 9,
   "metadata": {},
   "outputs": [
    {
     "data": {
      "text/plain": [
       "{'result': True,\n",
       " 'original': '여기에 오타있는 문장을 넣어보세요^_^',\n",
       " 'checked': '여기에 오타 있는 문장을 넣어보세요^_^',\n",
       " 'errors': 1,\n",
       " 'words': OrderedDict([('여기에', 0),\n",
       "              ('<em', 0),\n",
       "              (\"class='green_text'>오타\", 0),\n",
       "              ('있는</em>', 0),\n",
       "              ('문장을', 0),\n",
       "              ('넣어보세요^_^', 0)]),\n",
       " 'time': 0.03992867469787598}"
      ]
     },
     "execution_count": 9,
     "metadata": {},
     "output_type": "execute_result"
    }
   ],
   "source": [
    "from hanspell import spell_checker\n",
    "result = spell_checker.check(u'여기에 오타있는 문장을 넣어보세요^_^')\n",
    "result.as_dict()  # dict로 출력"
   ]
  },
  {
   "cell_type": "code",
   "execution_count": 2,
   "metadata": {},
   "outputs": [
    {
     "name": "stdout",
     "output_type": "stream",
     "text": [
      "Defaulting to user installation because normal site-packages is not writeable\n",
      "Collecting py-hanspell\n",
      "  Using cached py-hanspell-1.1.tar.gz (3.0 kB)\n",
      "  Preparing metadata (setup.py): started\n",
      "  Preparing metadata (setup.py): finished with status 'error'\n",
      "Note: you may need to restart the kernel to use updated packages.\n"
     ]
    },
    {
     "name": "stderr",
     "output_type": "stream",
     "text": [
      "WARNING: Ignoring invalid distribution -rotobuf (c:\\users\\tjoeun\\appdata\\roaming\\python\\python39\\site-packages)\n",
      "WARNING: Ignoring invalid distribution -ensorflow-intel (c:\\users\\tjoeun\\appdata\\roaming\\python\\python39\\site-packages)\n",
      "WARNING: Ignoring invalid distribution -rotobuf (c:\\users\\tjoeun\\appdata\\roaming\\python\\python39\\site-packages)\n",
      "WARNING: Ignoring invalid distribution -ensorflow-intel (c:\\users\\tjoeun\\appdata\\roaming\\python\\python39\\site-packages)\n",
      "  error: subprocess-exited-with-error\n",
      "  \n",
      "  × python setup.py egg_info did not run successfully.\n",
      "  │ exit code: 1\n",
      "  ╰─> [6 lines of output]\n",
      "      Traceback (most recent call last):\n",
      "        File \"<string>\", line 2, in <module>\n",
      "        File \"<pip-setuptools-caller>\", line 34, in <module>\n",
      "        File \"C:\\Users\\tjoeun\\AppData\\Local\\Temp\\pip-install-fizjet79\\py-hanspell_006201f69ddf4cd79e72acc21eaa65c4\\setup.py\", line 2, in <module>\n",
      "          from pip.req import parse_requirements\n",
      "      ModuleNotFoundError: No module named 'pip.req'\n",
      "      [end of output]\n",
      "  \n",
      "  note: This error originates from a subprocess, and is likely not a problem with pip.\n",
      "error: metadata-generation-failed\n",
      "\n",
      "× Encountered error while generating package metadata.\n",
      "╰─> See above for output.\n",
      "\n",
      "note: This is an issue with the package mentioned above, not pip.\n",
      "hint: See above for details.\n",
      "WARNING: Ignoring invalid distribution -rotobuf (c:\\users\\tjoeun\\appdata\\roaming\\python\\python39\\site-packages)\n",
      "WARNING: Ignoring invalid distribution -ensorflow-intel (c:\\users\\tjoeun\\appdata\\roaming\\python\\python39\\site-packages)\n",
      "WARNING: Ignoring invalid distribution -rotobuf (c:\\users\\tjoeun\\appdata\\roaming\\python\\python39\\site-packages)\n",
      "WARNING: Ignoring invalid distribution -ensorflow-intel (c:\\users\\tjoeun\\appdata\\roaming\\python\\python39\\site-packages)\n",
      "WARNING: Ignoring invalid distribution -rotobuf (c:\\users\\tjoeun\\appdata\\roaming\\python\\python39\\site-packages)\n",
      "WARNING: Ignoring invalid distribution -ensorflow-intel (c:\\users\\tjoeun\\appdata\\roaming\\python\\python39\\site-packages)\n",
      "\n",
      "[notice] A new release of pip is available: 23.0.1 -> 23.1.2\n",
      "[notice] To update, run: python.exe -m pip install --upgrade pip\n"
     ]
    }
   ],
   "source": []
  },
  {
   "cell_type": "code",
   "execution_count": null,
   "metadata": {},
   "outputs": [],
   "source": []
  }
 ],
 "metadata": {
  "kernelspec": {
   "display_name": "base",
   "language": "python",
   "name": "python3"
  },
  "language_info": {
   "codemirror_mode": {
    "name": "ipython",
    "version": 3
   },
   "file_extension": ".py",
   "mimetype": "text/x-python",
   "name": "python",
   "nbconvert_exporter": "python",
   "pygments_lexer": "ipython3",
   "version": "3.9.13"
  },
  "orig_nbformat": 4
 },
 "nbformat": 4,
 "nbformat_minor": 2
}
