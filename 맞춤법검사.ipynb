{
 "cells": [
  {
   "cell_type": "code",
   "execution_count": 1,
   "metadata": {},
   "outputs": [],
   "source": [
    "import pandas as pd"
   ]
  },
  {
   "cell_type": "code",
   "execution_count": 2,
   "metadata": {},
   "outputs": [],
   "source": [
    "df = pd.read_csv('C:/Users/tjoeun/Desktop/송수린/자연어처리프로젝트/text_analysis/Travel/data/수정데이터/통합데이터.csv')"
   ]
  },
  {
   "cell_type": "code",
   "execution_count": 3,
   "metadata": {},
   "outputs": [
    {
     "data": {
      "text/plain": [
       "'안내해주신 방법을 시도해 봤는데 안 돼서요'"
      ]
     },
     "execution_count": 3,
     "metadata": {},
     "output_type": "execute_result"
    }
   ],
   "source": [
    "str(df.iloc[1][0])"
   ]
  },
  {
   "cell_type": "code",
   "execution_count": 4,
   "metadata": {},
   "outputs": [
    {
     "name": "stdout",
     "output_type": "stream",
     "text": [
      "1098943\n",
      "1100000\n",
      "1101318\n",
      "1107857\n",
      "1110000\n",
      "1116337\n",
      "1120000\n",
      "1121388\n",
      "1121701\n",
      "1130000\n",
      "1139704\n",
      "1140000\n"
     ]
    }
   ],
   "source": [
    "from hanspell import spell_checker\n",
    "new = []\n",
    "for i in range(1098943,1148943):\n",
    "    try:\n",
    "        a = df.iloc[i]\n",
    "        result = spell_checker.check(df.iloc[i][0])\n",
    "        new.append(result)\n",
    "        if i%10000 ==0:\n",
    "            print(i)\n",
    "        else:\n",
    "            pass\n",
    "    except:\n",
    "        print(i)"
   ]
  },
  {
   "cell_type": "code",
   "execution_count": 9,
   "metadata": {},
   "outputs": [
    {
     "ename": "ParseError",
     "evalue": "not well-formed (invalid token): line 1, column 22 (<string>)",
     "output_type": "error",
     "traceback": [
      "Traceback \u001b[1;36m(most recent call last)\u001b[0m:\n",
      "  File \u001b[0;32m\"c:\\Users\\tjoeun\\anaconda3\\lib\\site-packages\\IPython\\core\\interactiveshell.py\"\u001b[0m, line \u001b[0;32m3457\u001b[0m, in \u001b[0;35mrun_code\u001b[0m\n    exec(code_obj, self.user_global_ns, self.user_ns)\n",
      "  File \u001b[0;32m\"C:\\Users\\tjoeun\\AppData\\Local\\Temp\\ipykernel_2840\\3135136007.py\"\u001b[0m, line \u001b[0;32m2\u001b[0m, in \u001b[0;35m<module>\u001b[0m\n    result = spell_checker.check(str(df.iloc[i][0]))\n",
      "  File \u001b[0;32m\"c:\\Users\\tjoeun\\Desktop\\text_analysis-main\\hanspell\\spell_checker.py\"\u001b[0m, line \u001b[0;32m70\u001b[0m, in \u001b[0;35mcheck\u001b[0m\n    'checked': _remove_tags(html),\n",
      "  File \u001b[0;32m\"c:\\Users\\tjoeun\\Desktop\\text_analysis-main\\hanspell\\spell_checker.py\"\u001b[0m, line \u001b[0;32m27\u001b[0m, in \u001b[0;35m_remove_tags\u001b[0m\n    result = ''.join(ET.fromstring(text).itertext())\n",
      "\u001b[1;36m  File \u001b[1;32m\"c:\\Users\\tjoeun\\anaconda3\\lib\\xml\\etree\\ElementTree.py\"\u001b[1;36m, line \u001b[1;32m1344\u001b[1;36m, in \u001b[1;35mXML\u001b[1;36m\u001b[0m\n\u001b[1;33m    parser.feed(text)\u001b[0m\n",
      "\u001b[1;36m  File \u001b[1;32m\"<string>\"\u001b[1;36m, line \u001b[1;32munknown\u001b[0m\n\u001b[1;31mParseError\u001b[0m\u001b[1;31m:\u001b[0m not well-formed (invalid token): line 1, column 22\n"
     ]
    }
   ],
   "source": [
    "from hanspell import spell_checker\n",
    "result = spell_checker.check(str(df.iloc[i][0]))\n",
    "result.as_dict()  # dict로 출력"
   ]
  },
  {
   "cell_type": "code",
   "execution_count": 5,
   "metadata": {},
   "outputs": [],
   "source": [
    "import pandas as pd"
   ]
  },
  {
   "cell_type": "code",
   "execution_count": 6,
   "metadata": {},
   "outputs": [],
   "source": [
    "df = pd.DataFrame(new)"
   ]
  },
  {
   "cell_type": "code",
   "execution_count": 7,
   "metadata": {},
   "outputs": [],
   "source": [
    "df.to_csv('save3.csv',index=False)"
   ]
  },
  {
   "cell_type": "code",
   "execution_count": 39,
   "metadata": {},
   "outputs": [],
   "source": [
    "mew = pd.read_csv('save1.csv')"
   ]
  },
  {
   "cell_type": "code",
   "execution_count": 40,
   "metadata": {},
   "outputs": [
    {
     "data": {
      "text/plain": [
       "106715"
      ]
     },
     "execution_count": 40,
     "metadata": {},
     "output_type": "execute_result"
    }
   ],
   "source": [
    "len(mew)"
   ]
  },
  {
   "cell_type": "code",
   "execution_count": 13,
   "metadata": {},
   "outputs": [
    {
     "data": {
      "text/plain": [
       "403290"
      ]
     },
     "execution_count": 13,
     "metadata": {},
     "output_type": "execute_result"
    }
   ],
   "source": [
    "len(new)"
   ]
  },
  {
   "cell_type": "code",
   "execution_count": null,
   "metadata": {},
   "outputs": [],
   "source": []
  }
 ],
 "metadata": {
  "kernelspec": {
   "display_name": "base",
   "language": "python",
   "name": "python3"
  },
  "language_info": {
   "codemirror_mode": {
    "name": "ipython",
    "version": 3
   },
   "file_extension": ".py",
   "mimetype": "text/x-python",
   "name": "python",
   "nbconvert_exporter": "python",
   "pygments_lexer": "ipython3",
   "version": "3.9.13"
  },
  "orig_nbformat": 4
 },
 "nbformat": 4,
 "nbformat_minor": 2
}
