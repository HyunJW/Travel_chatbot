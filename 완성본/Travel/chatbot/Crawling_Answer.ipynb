{
 "cells": [
  {
   "cell_type": "code",
   "execution_count": 1,
   "metadata": {},
   "outputs": [
    {
     "name": "stdout",
     "output_type": "stream",
     "text": [
      "WARNING:tensorflow:Layer lstm will not use cuDNN kernels since it doesn't meet the criteria. It will use a generic GPU kernel as fallback when running on GPU.\n",
      "WARNING:tensorflow:Layer lstm will not use cuDNN kernels since it doesn't meet the criteria. It will use a generic GPU kernel as fallback when running on GPU.\n",
      "WARNING:tensorflow:Layer lstm will not use cuDNN kernels since it doesn't meet the criteria. It will use a generic GPU kernel as fallback when running on GPU.\n"
     ]
    }
   ],
   "source": [
    "from selenium import webdriver\n",
    "from selenium.webdriver.common.by import By\n",
    "from konlpy.tag import Komoran\n",
    "import time\n",
    "from Preprocess import Preprocess\n",
    "from NerModel import NerModel\n",
    "from itertools import product\n",
    "komoran = Komoran()\n",
    "p = Preprocess(word2index_dic='../data/chatbot_dict.bin', userdic='../data/user_dic.tsv')\n",
    "ner = NerModel(model_name='./model/ner_model.h5', preprocess=p)"
   ]
  },
  {
   "cell_type": "code",
   "execution_count": 2,
   "metadata": {},
   "outputs": [],
   "source": [
    "def refine(predics):\n",
    "    region, attraction, datetime, companion, purpose = [], [], [], [], []\n",
    "    for i in range(len(predics)):\n",
    "        if predics[i][1] in 'B_R':\n",
    "            if (predics[i][0] != '여행지') & (predics[i][0] != '장소') & (predics[i][0] != '곳'):\n",
    "                region.append(predics[i][0])\n",
    "        elif predics[i][1] in 'B_A':\n",
    "            attraction.append(predics[i][0])\n",
    "        elif predics[i][1] in 'B_DT':\n",
    "            datetime.append(predics[i][0])\n",
    "        elif predics[i][1] in 'B_C':\n",
    "            companion.append(predics[i][0])\n",
    "        elif predics[i][1] in 'B_P':\n",
    "            purpose.append(predics[i][0])\n",
    "        elif predics[i][1] in 'O':\n",
    "            if predics[i][0] in ['1월','2월','3월','4월','5월','6월','7월','8월','9월','10월','11월','12월', '1박2일']:\n",
    "                datetime.append(predics[i][0])\n",
    "    return region, attraction, datetime, companion, purpose"
   ]
  },
  {
   "cell_type": "code",
   "execution_count": 3,
   "metadata": {},
   "outputs": [
    {
     "name": "stdout",
     "output_type": "stream",
     "text": [
      "1/1 [==============================] - 2s 2s/step\n"
     ]
    },
    {
     "data": {
      "text/plain": [
       "[('1월', 'O'),\n",
       " ('가', 'O'),\n",
       " ('만', 'O'),\n",
       " ('여행지', 'B_R'),\n",
       " ('추천', 'O'),\n",
       " ('좀', 'O'),\n",
       " ('하', 'O'),\n",
       " ('주', 'O')]"
      ]
     },
     "execution_count": 3,
     "metadata": {},
     "output_type": "execute_result"
    }
   ],
   "source": [
    "query = '1월에 갈만한 여행지 추천좀 해주세요'\n",
    "predicts = ner.predict(query)\n",
    "predicts"
   ]
  },
  {
   "cell_type": "code",
   "execution_count": 4,
   "metadata": {},
   "outputs": [
    {
     "data": {
      "text/plain": [
       "([], [], ['1월'], [], [])"
      ]
     },
     "execution_count": 4,
     "metadata": {},
     "output_type": "execute_result"
    }
   ],
   "source": [
    "region, attraction, datetime, companion, purpose = refine(predicts)\n",
    "region, attraction, datetime, companion, purpose"
   ]
  },
  {
   "cell_type": "code",
   "execution_count": 5,
   "metadata": {},
   "outputs": [],
   "source": [
    "def create_query(region, attraction, datetime, companion, purpose):\n",
    "    items = [region, attraction, datetime, companion, purpose]\n",
    "    keywords = [i for i in items if len(i) != 0]\n",
    "    keywords = list(product(*keywords))\n",
    "    queries = []\n",
    "    for keyword in keywords:\n",
    "        query = ''\n",
    "        for i in range(len(keyword)):\n",
    "            query = f'{query} {keyword[i]}'\n",
    "        if '맛집' in query:\n",
    "            query += ' 추천'\n",
    "        else:\n",
    "            query += ' 여행지 추천'\n",
    "        queries.append(query.strip())\n",
    "    return queries"
   ]
  },
  {
   "cell_type": "code",
   "execution_count": 6,
   "metadata": {},
   "outputs": [
    {
     "data": {
      "text/plain": [
       "['1월 여행지 추천']"
      ]
     },
     "execution_count": 6,
     "metadata": {},
     "output_type": "execute_result"
    }
   ],
   "source": [
    "queries = create_query(region, attraction, datetime, companion, purpose)\n",
    "queries"
   ]
  },
  {
   "cell_type": "code",
   "execution_count": 7,
   "metadata": {},
   "outputs": [],
   "source": [
    "def search(queries):\n",
    "    # 옵션 생성\n",
    "    options = webdriver.ChromeOptions()\n",
    "    # 창 숨기는 옵션 추가\n",
    "    options.add_argument(\"headless\")\n",
    "    url = 'https://www.naver.com/'\n",
    "    driver = webdriver.Chrome(options=options)\n",
    "    for query in queries:\n",
    "        driver.get(url)\n",
    "        driver.find_element(By.CLASS_NAME, 'search_input').send_keys(query)\n",
    "        driver.find_element(By.CLASS_NAME, 'btn_search').click()\n",
    "        des_list = driver.find_elements(By.CLASS_NAME, 'keyword-UDtbe')\n",
    "        top5 = des_list[0:5]\n",
    "        \n",
    "        if len(top5) == 0:\n",
    "            res_list = driver.find_elements(By.CLASS_NAME, 'place_bluelink')\n",
    "            top5 = res_list[0:5]\n",
    "            time.sleep(0.5)\n",
    "\n",
    "        try:\n",
    "            if '맛집' in query:\n",
    "                loc = query.split(' ')[0]\n",
    "                answer = f'{loc} 추천 맛집으로는 '\n",
    "            else:\n",
    "                answer = '추천하는 여행지로는 '\n",
    "            for i in range(len(top5)):\n",
    "                answer += top5[i].text\n",
    "                if i == len(top5) - 1:\n",
    "                    answer += ' '\n",
    "                else:\n",
    "                    answer += ', '\n",
    "            answer += '등이 있습니다.'\n",
    "        except:\n",
    "            answer = '아직 학습되지 않은 부분입니다. 죄송합니다.'\n",
    "    driver.close()\n",
    "    return answer"
   ]
  },
  {
   "cell_type": "code",
   "execution_count": 8,
   "metadata": {},
   "outputs": [
    {
     "data": {
      "text/plain": [
       "'추천하는 여행지로는 등이 있습니다.'"
      ]
     },
     "execution_count": 8,
     "metadata": {},
     "output_type": "execute_result"
    }
   ],
   "source": [
    "answer = search(queries)\n",
    "answer"
   ]
  },
  {
   "cell_type": "code",
   "execution_count": 9,
   "metadata": {},
   "outputs": [],
   "source": [
    "def research(queries):\n",
    "    datetimes = ['요즘','봄','여름','가을','겨울','1월','2월','3월','4월','5월','6월','7월','8월','9월','10월','11월','12월']\n",
    "\n",
    "    if (len(purpose) == 0) and (len(companion) == 0) and (len(datetime) == 0):\n",
    "        answer = '아직 학습되지 않은 부분입니다. 죄송합니다.'\n",
    "        return answer\n",
    "    \n",
    "    temma_idx = -1\n",
    "    if len(purpose) != 0: \n",
    "        if purpose[0] in ['신혼', '신혼여행']:\n",
    "            temma_idx = 2\n",
    "        \n",
    "    if len(companion) != 0:\n",
    "        if companion[0] == '혼자':\n",
    "            temma_idx = 0\n",
    "        elif companion[0] in ['자녀', '아들', '딸', '애기', '아기', '아이']:\n",
    "            temma_idx = 1\n",
    "        elif companion[0] in ['부모', '할아버지', '할머니', '조부모', '아버지', '어머니', '아빠', '엄마']:\n",
    "            temma_idx = 3\n",
    "        elif companion[0] in ['친구', '여자친구', '남자친구']:\n",
    "            temma_idx = 4\n",
    "        \n",
    "    loc_idx = 0\n",
    "    if len(region) != 0:\n",
    "        if region[0] in ['서울', '인천', '경기']:\n",
    "            loc_idx = 1\n",
    "        elif region[0] in ['경북', '경남', '경상북도', '경상남도']:\n",
    "            loc_idx = 2\n",
    "        elif region[0] in ['전북', '전남', '전라북도', '전라남도']:\n",
    "            loc_idx = 3\n",
    "        elif region[0] in ['강원', '강원도']:\n",
    "            loc_idx = 4\n",
    "        elif region[0] in ['충북', '충남', '충청북도', '충청남도']:\n",
    "            loc_idx = 5\n",
    "        elif region[0] in ['제주', '제주도']:\n",
    "            loc_idx = 6\n",
    "\n",
    "\n",
    "    # 옵션 생성\n",
    "    options = webdriver.ChromeOptions()\n",
    "    # 창 숨기는 옵션 추가\n",
    "    options.add_argument(\"headless\")\n",
    "    url = 'https://travel.naver.com/domestic'\n",
    "    driver = webdriver.Chrome(options=options)\n",
    "    for query in queries:\n",
    "        driver.get(url)\n",
    "        \n",
    "        if len(datetime) != 0:\n",
    "            for dt in datetime:\n",
    "                if dt in datetimes:\n",
    "                    dt_idx = datetimes.index(dt)\n",
    "                    driver.find_element(By.CLASS_NAME, 'filter_button__2KgQ_').click()    \n",
    "                    time.sleep(0.5)\n",
    "                    driver.find_elements(By.CLASS_NAME, 'filter_button__2KgQ_')[dt_idx+1].click()\n",
    "                    time.sleep(0.5)\n",
    "                    driver.find_elements(By.CLASS_NAME, 'filter_button__2KgQ_')[2].click()\n",
    "                    time.sleep(0.5)\n",
    "                    driver.find_elements(By.CLASS_NAME, 'filter_button__2KgQ_')[loc_idx+2].click()\n",
    "            time.sleep(2)\n",
    "\n",
    "        elif temma_idx >= 0:\n",
    "            driver.find_elements(By.CLASS_NAME, 'filter_tab__2U5Lx')[1].click()\n",
    "            driver.find_element(By.CLASS_NAME, 'filter_button__2KgQ_').click()\n",
    "            time.sleep(0.5)\n",
    "            driver.find_elements(By.CLASS_NAME, 'filter_button__2KgQ_')[temma_idx+1].click()\n",
    "            time.sleep(0.5)\n",
    "            driver.find_elements(By.CLASS_NAME, 'filter_button__2KgQ_')[1].click()\n",
    "            time.sleep(0.5)\n",
    "            driver.find_elements(By.CLASS_NAME, 'filter_button__2KgQ_')[loc_idx+2].click()\n",
    "            time.sleep(2)\n",
    "\n",
    "        des_list = driver.find_elements(By.CLASS_NAME, 'item_name__2TMMW')[0:5]\n",
    "        top5 = des_list[0:5]\n",
    "        try:\n",
    "            if '맛집' in query:\n",
    "                loc = query.split(' ')[0]\n",
    "                answer = f'{loc} 추천 맛집으로는 '\n",
    "            else:\n",
    "                answer = '추천하는 여행지로는 '\n",
    "            for i in range(len(top5)):\n",
    "                answer += top5[i].text\n",
    "                if i == len(top5) - 1:\n",
    "                    answer += ' '\n",
    "                else:\n",
    "                    answer += ', '\n",
    "            answer += '등이 있습니다.'\n",
    "        except:\n",
    "            answer = '아직 학습되지 않은 부분입니다. 죄송합니다.'\n",
    "    driver.close()\n",
    "    return answer"
   ]
  },
  {
   "cell_type": "code",
   "execution_count": 10,
   "metadata": {},
   "outputs": [
    {
     "data": {
      "text/plain": [
       "'추천하는 여행지로는 청양군, 인제군, 무주군, 청송군, 이천시 등이 있습니다.'"
      ]
     },
     "execution_count": 10,
     "metadata": {},
     "output_type": "execute_result"
    }
   ],
   "source": [
    "answer2 = research(queries)\n",
    "answer2"
   ]
  },
  {
   "cell_type": "code",
   "execution_count": null,
   "metadata": {},
   "outputs": [],
   "source": []
  }
 ],
 "metadata": {
  "kernelspec": {
   "display_name": "base",
   "language": "python",
   "name": "python3"
  },
  "language_info": {
   "codemirror_mode": {
    "name": "ipython",
    "version": 3
   },
   "file_extension": ".py",
   "mimetype": "text/x-python",
   "name": "python",
   "nbconvert_exporter": "python",
   "pygments_lexer": "ipython3",
   "version": "3.9.13"
  },
  "orig_nbformat": 4
 },
 "nbformat": 4,
 "nbformat_minor": 2
}
